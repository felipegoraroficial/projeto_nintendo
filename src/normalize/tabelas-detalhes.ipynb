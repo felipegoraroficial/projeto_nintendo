{
 "cells": [
  {
   "cell_type": "code",
   "execution_count": 0,
   "metadata": {
    "application/vnd.databricks.v1+cell": {
     "cellMetadata": {
      "byteLimit": 2048000,
      "rowLimit": 10000
     },
     "inputWidgets": {},
     "nuid": "1a332cde-0734-46d4-8505-36c72c7082a1",
     "showTitle": false,
     "tableResultSettingsMap": {},
     "title": ""
    }
   },
   "outputs": [],
   "source": [
    "df = spark.sql(\"\"\"\n",
    "SELECT * \n",
    "FROM delta.`/Volumes/nintendodatabrickswi86no_workspace/nintendo/gold`\n",
    "\"\"\")\n",
    "\n",
    "df.createOrReplaceTempView(\"_sqldf\")"
   ]
  },
  {
   "cell_type": "code",
   "execution_count": 0,
   "metadata": {
    "application/vnd.databricks.v1+cell": {
     "cellMetadata": {
      "byteLimit": 2048000,
      "implicitDf": true,
      "rowLimit": 10000
     },
     "inputWidgets": {},
     "nuid": "071b8125-8d6e-4317-b578-1a71dd90649b",
     "showTitle": false,
     "tableResultSettingsMap": {},
     "title": ""
    }
   },
   "outputs": [],
   "source": [
    "%sql\n",
    "CREATE OR REPLACE TABLE `nintendodatabrickswi86no_workspace`.`nintendo`.`details` AS\n",
    "SELECT \n",
    "    codigo,\n",
    "    memoria,\n",
    "    oled,\n",
    "    `lite`,\n",
    "    recomendacao,\n",
    "    link\n",
    "FROM (\n",
    "    SELECT \n",
    "        codigo,\n",
    "        memoria,\n",
    "        oled,\n",
    "        `lite`,\n",
    "        recomendacao,\n",
    "        link,\n",
    "        extract,\n",
    "        ROW_NUMBER() OVER (PARTITION BY codigo ORDER BY extract DESC) AS rn\n",
    "    FROM `_sqldf`\n",
    ")\n",
    "WHERE rn = 1\n",
    "ORDER BY codigo"
   ]
  }
 ],
 "metadata": {
  "application/vnd.databricks.v1+notebook": {
   "computePreferences": null,
   "dashboards": [],
   "environmentMetadata": {
    "base_environment": "",
    "environment_version": "2"
   },
   "inputWidgetPreferences": null,
   "language": "python",
   "notebookMetadata": {
    "mostRecentlyExecutedCommandWithImplicitDF": {
     "commandId": 7865337247204399,
     "dataframes": [
      "_sqldf"
     ]
    },
    "pythonIndentUnit": 4
   },
   "notebookName": "tabelas-detalhes",
   "widgets": {}
  },
  "language_info": {
   "name": "python"
  }
 },
 "nbformat": 4,
 "nbformat_minor": 0
}
