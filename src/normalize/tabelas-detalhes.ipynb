{
 "cells": [
  {
   "cell_type": "code",
   "execution_count": 0,
   "metadata": {
    "application/vnd.databricks.v1+cell": {
     "cellMetadata": {
      "byteLimit": 2048000,
      "rowLimit": 10000
     },
     "inputWidgets": {},
     "nuid": "1a332cde-0734-46d4-8505-36c72c7082a1",
     "showTitle": false,
     "tableResultSettingsMap": {},
     "title": ""
    }
   },
   "outputs": [],
   "source": [
    "df = spark.sql(\"\"\"\n",
    "SELECT * \n",
    "FROM delta.`/Volumes/nintendodatabricksp1okle_workspace/nintendo/gold`\n",
    "\"\"\")\n",
    "\n",
    "df.createOrReplaceTempView(\"_sqldf\")"
   ]
  },
  {
   "cell_type": "code",
   "execution_count": 0,
   "metadata": {
    "application/vnd.databricks.v1+cell": {
     "cellMetadata": {
      "byteLimit": 2048000,
      "implicitDf": true,
      "rowLimit": 10000
     },
     "inputWidgets": {},
     "nuid": "bb5565b3-966b-4330-a7ab-de9c16d0ed06",
     "showTitle": false,
     "tableResultSettingsMap": {},
     "title": ""
    }
   },
   "outputs": [],
   "source": [
    "%sql\n",
    "CREATE OR REPLACE TABLE `nintendodatabricksp1okle_workspace`.`nintendo`.details AS\n",
    "SELECT \n",
    "    DISTINCT codigo,\n",
    "    memoria,\n",
    "    oled,\n",
    "    `lite`,\n",
    "    recomendacao,\n",
    "  -- Mascarando o link usando hash \n",
    "    SHA2(link, 256) AS link\n",
    "\n",
    "FROM `_sqldf`\n",
    "ORDER BY codigo "
   ]
  }
 ],
 "metadata": {
  "application/vnd.databricks.v1+notebook": {
   "computePreferences": null,
   "dashboards": [],
   "environmentMetadata": {
    "base_environment": "",
    "environment_version": "2"
   },
   "inputWidgetPreferences": null,
   "language": "python",
   "notebookMetadata": {
    "mostRecentlyExecutedCommandWithImplicitDF": {
     "commandId": 8481874544517961,
     "dataframes": [
      "_sqldf"
     ]
    },
    "pythonIndentUnit": 4
   },
   "notebookName": "tabelas-detalhes",
   "widgets": {}
  },
  "language_info": {
   "name": "python"
  }
 },
 "nbformat": 4,
 "nbformat_minor": 0
}
