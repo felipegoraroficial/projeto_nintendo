{
 "cells": [
  {
   "cell_type": "code",
   "execution_count": 0,
   "metadata": {
    "application/vnd.databricks.v1+cell": {
     "cellMetadata": {
      "byteLimit": 2048000,
      "rowLimit": 10000
     },
     "inputWidgets": {},
     "nuid": "1a332cde-0734-46d4-8505-36c72c7082a1",
     "showTitle": false,
     "tableResultSettingsMap": {},
     "title": ""
    }
   },
   "outputs": [],
   "source": [
    "df = spark.sql(\"\"\"\n",
    "SELECT * \n",
    "FROM delta.`/Volumes/nintendodatabrickswi86no_workspace/nintendo/gold`\n",
    "\"\"\")\n",
    "\n",
    "df.createOrReplaceTempView(\"_sqldf\")"
   ]
  },
  {
   "cell_type": "code",
   "execution_count": 0,
   "metadata": {
    "application/vnd.databricks.v1+cell": {
     "cellMetadata": {
      "byteLimit": 2048000,
      "implicitDf": true,
      "rowLimit": 10000
     },
     "inputWidgets": {},
     "nuid": "bb5565b3-966b-4330-a7ab-de9c16d0ed06",
     "showTitle": false,
     "tableResultSettingsMap": {},
     "title": ""
    }
   },
   "outputs": [],
   "source": [
    "%sql\n",
    "CREATE OR REPLACE TABLE `nintendodatabrickswi86no_workspace`.`nintendo`.`products` AS\n",
    "SELECT \n",
    "    codigo,\n",
    "    nome,\n",
    "    origem\n",
    "FROM (\n",
    "    SELECT \n",
    "        codigo,\n",
    "        nome,\n",
    "        origem,\n",
    "        extract,\n",
    "        ROW_NUMBER() OVER (PARTITION BY codigo ORDER BY extract DESC) AS rn\n",
    "    FROM `_sqldf`\n",
    ")\n",
    "WHERE rn = 1\n",
    "ORDER BY codigo"
   ]
  }
 ],
 "metadata": {
  "application/vnd.databricks.v1+notebook": {
   "computePreferences": null,
   "dashboards": [],
   "environmentMetadata": {
    "base_environment": "",
    "environment_version": "2"
   },
   "inputWidgetPreferences": null,
   "language": "python",
   "notebookMetadata": {
    "mostRecentlyExecutedCommandWithImplicitDF": {
     "commandId": 5184719816697867,
     "dataframes": [
      "_sqldf"
     ]
    },
    "pythonIndentUnit": 4
   },
   "notebookName": "tabelas-produtos",
   "widgets": {}
  },
  "language_info": {
   "name": "python"
  }
 },
 "nbformat": 4,
 "nbformat_minor": 0
}
