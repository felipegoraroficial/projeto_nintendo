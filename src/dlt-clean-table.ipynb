{
 "cells": [
  {
   "cell_type": "code",
   "execution_count": 0,
   "metadata": {
    "application/vnd.databricks.v1+cell": {
     "cellMetadata": {},
     "inputWidgets": {},
     "nuid": "c7a4e8a1-87b1-4eac-9358-d78683af7b2a",
     "showTitle": false,
     "tableResultSettingsMap": {},
     "title": ""
    }
   },
   "outputs": [],
   "source": [
    "import dlt\n",
    "import logging\n",
    "import re\n",
    "from pyspark.sql.functions import col, to_timestamp, when, regexp_extract, lit, regexp_replace, udf\n",
    "from pyspark.sql.types import StringType, LongType, DoubleType"
   ]
  },
  {
   "cell_type": "code",
   "execution_count": 0,
   "metadata": {
    "application/vnd.databricks.v1+cell": {
     "cellMetadata": {},
     "inputWidgets": {},
     "nuid": "fcfb32f7-5255-4f79-8c80-498e765ec221",
     "showTitle": false,
     "tableResultSettingsMap": {},
     "title": ""
    }
   },
   "outputs": [],
   "source": [
    "logger = logging.getLogger(\"DLTLoggerSilverNintendo\")\n",
    "\n",
    "logger.setLevel(logging.INFO)\n",
    "\n",
    "if not logger.handlers:\n",
    "    handler = logging.StreamHandler()\n",
    "    formatter = logging.Formatter('[%(levelname)s] %(asctime)s - %(message)s',\n",
    "                                  '%Y-%m-%d %H:%M:%S')\n",
    "    handler.setFormatter(formatter)\n",
    "    logger.addHandler(handler)"
   ]
  },
  {
   "cell_type": "code",
   "execution_count": 0,
   "metadata": {
    "application/vnd.databricks.v1+cell": {
     "cellMetadata": {},
     "inputWidgets": {},
     "nuid": "0801bdfe-96f0-4644-8710-591b8bf877c9",
     "showTitle": false,
     "tableResultSettingsMap": {},
     "title": ""
    }
   },
   "outputs": [],
   "source": [
    "def extract_memory_info(info):\n",
    "    if isinstance(info, str) and info:\n",
    "        padrao = r'(\\d+)\\s*(G[Bb])'\n",
    "        resultado = re.search(padrao, info, re.IGNORECASE)\n",
    "        if resultado:\n",
    "            return resultado.group(0).upper()\n",
    "    return '-'"
   ]
  },
  {
   "cell_type": "code",
   "execution_count": 0,
   "metadata": {
    "application/vnd.databricks.v1+cell": {
     "cellMetadata": {},
     "inputWidgets": {},
     "nuid": "3a99f4c8-7621-4b93-a2e5-ecc6d33d2fe8",
     "showTitle": false,
     "tableResultSettingsMap": {},
     "title": ""
    }
   },
   "outputs": [],
   "source": [
    "@dlt.table(\n",
    "    name=\"nintendodatabricks_workspace.silver.consoles_silver\",\n",
    "    comment=\"Tabela limpa e tratada da camada de ingestão aprticionada por liquid cluster\",\n",
    "    cluster_by=[\"codigo\",\"extract\"]\n",
    ")\n",
    "\n",
    "@dlt.expect(\"codigo_string_not_null\", \"typeof(codigo) = 'string' AND codigo IS NOT NULL\")\n",
    "@dlt.expect(\"nome_string_not_null\", \"typeof(nome) = 'string' AND nome IS NOT NULL\")\n",
    "@dlt.expect(\"preco_double_not_null\", \"typeof(preco) = 'double' AND preco IS NOT NULL\")\n",
    "@dlt.expect(\"desconto_double_not_null\", \"typeof(desconto) = 'double' AND desconto IS NOT NULL\")\n",
    "@dlt.expect(\"numero_parcelas_long_not_null\", \"typeof(numero_parcelas) = 'bigint' AND numero_parcelas IS NOT NULL\")\n",
    "@dlt.expect(\"valor_prestacao_double_not_null\", \"typeof(valor_prestacao) = 'double' AND valor_prestacao IS NOT NULL\")\n",
    "@dlt.expect(\"origem_string_not_null\", \"typeof(origem) = 'string' AND origem IS NOT NULL\")\n",
    "@dlt.expect(\"link_string_not_null\", \"typeof(link) = 'string' AND link IS NOT NULL\")\n",
    "@dlt.expect(\"memoria_string_not_null\", \"typeof(memoria) = 'string' AND memoria IS NOT NULL\")\n",
    "@dlt.expect(\"oled_string_not_null\", \"typeof(oled) = 'string' AND oled IS NOT NULL\")\n",
    "@dlt.expect(\"extract_timestamp_not_null\", \"typeof(extract) = 'timestamp' AND extract IS NOT NULL\")\n",
    "\n",
    "def console_silver():\n",
    "\n",
    "    logger.info(\"Leitura da tabela Striming iniciada...\")\n",
    "\n",
    "    df = dlt.read(\"nintendodatabricks_workspace.bronze.consoles_ing\") \n",
    "\n",
    "    dffiltered = df.filter(col(\"codigo\").isNotNull())\n",
    "\n",
    "    dftime = dffiltered.withColumn(\"extract\", to_timestamp(col(\"extract\"), \"yyyy-MM-dd HH:mm\"))\n",
    "\n",
    "    df_com_parcelas = dftime.withColumn(\n",
    "        \"numero_parcelas\",\n",
    "        when(col(\"parcelamento\").isNotNull(), regexp_extract(col(\"parcelamento\"), r'(\\d+)x', 1)).otherwise(lit(0))\n",
    "    )\n",
    "    df_com_parcelas = df_com_parcelas.withColumn(\"numero_parcelas\", col(\"numero_parcelas\").cast(LongType()))\n",
    "\n",
    "    df_com_valores = df_com_parcelas.withColumn(\n",
    "        \"valor_prestacao\",\n",
    "        when(col(\"parcelamento\").isNotNull(), regexp_extract(col(\"parcelamento\"), r'R\\$ (\\d+,\\d{2})', 1)).otherwise(lit(\"0\"))\n",
    "    ).withColumn(\n",
    "        \"valor_prestacao\",\n",
    "        when(col(\"valor_prestacao\") != '0',\n",
    "            regexp_replace(col(\"valor_prestacao\"), \",\", \".\").cast(DoubleType())\n",
    "        ).otherwise(lit(0.0))\n",
    "    ).drop(\"parcelamento\")\n",
    "\n",
    "    df_desconto = df_com_valores.withColumn(\n",
    "        \"desconto\",\n",
    "        when(\n",
    "            col(\"desconto\").rlike(\"^\\d+%$\"),\n",
    "            (regexp_replace(col(\"desconto\"), \"%\", \"\").cast(DoubleType()) / 100)\n",
    "        ).otherwise(col(\"desconto\"))\n",
    "    ).withColumn(\"desconto\", col(\"desconto\").cast(DoubleType())).fillna({\"desconto\": 0.0})\n",
    "\n",
    "    df_preço = df_desconto.withColumn(\n",
    "        \"preco\",\n",
    "        when(\n",
    "            col(\"preco\").rlike(\"^R\\\\$?\\\\s?\\\\d{1,3}(\\\\.\\\\d{3})*(,\\\\d{2})?$\"),\n",
    "            regexp_replace(\n",
    "                regexp_replace(\n",
    "                    regexp_replace(col(\"preco\"), \"R\\\\$\", \"\"), \n",
    "                    \"\\\\.\", \"\" \n",
    "                ),\n",
    "                \",\", \".\"  \n",
    "            ).cast(DoubleType())\n",
    "        ).otherwise(col(\"preco\"))\n",
    "    ).withColumn(\"preco\", col(\"preco\").cast(DoubleType())).fillna({\"preco\": 0.0})\n",
    "\n",
    "    extrair_memoria_udf = udf(extract_memory_info, StringType())\n",
    "\n",
    "    df_memoria = df_preço.withColumn('memoria', extrair_memoria_udf(col(\"nome\")))\n",
    "\n",
    "    df_oled = df_memoria.withColumn('oled', when(col('nome').rlike('(?i)Oled'), 'Sim').otherwise('Nao'))\n",
    "\n",
    "    df_final = df_oled.select(\n",
    "        \"codigo\",\n",
    "        \"nome\",\n",
    "        \"preco\",\n",
    "        \"desconto\",\n",
    "        \"numero_parcelas\",\n",
    "        \"valor_prestacao\",\n",
    "        \"origem\",\n",
    "        \"link\",\n",
    "        \"memoria\",\n",
    "        \"oled\",\n",
    "        \"extract\"\n",
    "    )\n",
    "\n",
    "    logger.info(\"Carregando dados na Liquid Cluster\")\n",
    "\n",
    "    return df_final"
   ]
  }
 ],
 "metadata": {
  "application/vnd.databricks.v1+notebook": {
   "computePreferences": null,
   "dashboards": [],
   "environmentMetadata": {
    "base_environment": "",
    "environment_version": "3"
   },
   "inputWidgetPreferences": null,
   "language": "python",
   "notebookMetadata": {
    "pythonIndentUnit": 4
   },
   "notebookName": "dlt-clean-table",
   "widgets": {}
  },
  "language_info": {
   "name": "python"
  }
 },
 "nbformat": 4,
 "nbformat_minor": 0
}
