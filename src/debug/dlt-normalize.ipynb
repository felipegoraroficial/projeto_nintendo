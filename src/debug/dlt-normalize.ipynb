{
 "cells": [
  {
   "cell_type": "code",
   "execution_count": 0,
   "metadata": {
    "application/vnd.databricks.v1+cell": {
     "cellMetadata": {
      "byteLimit": 2048000,
      "implicitDf": true,
      "rowLimit": 10000
     },
     "inputWidgets": {},
     "nuid": "08964b7f-f2de-4806-8e06-d6de6b750b73",
     "showTitle": false,
     "tableResultSettingsMap": {},
     "title": ""
    }
   },
   "outputs": [],
   "source": [
    "%sql\n",
    "SELECT \n",
    "    codigo,\n",
    "    memoria,\n",
    "    oled,\n",
    "    recomendacao,\n",
    "    link\n",
    "FROM (\n",
    "    SELECT \n",
    "        codigo,\n",
    "        memoria,\n",
    "        oled,\n",
    "        recomendacao,\n",
    "        link,\n",
    "        extract,\n",
    "        ROW_NUMBER() OVER (PARTITION BY codigo ORDER BY extract DESC) AS rn\n",
    "    FROM nintendodatabricks_workspace.gold.consoles_recomendation\n",
    ")\n",
    "WHERE rn = 1\n",
    "ORDER BY codigo"
   ]
  },
  {
   "cell_type": "code",
   "execution_count": 0,
   "metadata": {
    "application/vnd.databricks.v1+cell": {
     "cellMetadata": {
      "byteLimit": 2048000,
      "implicitDf": true,
      "rowLimit": 10000
     },
     "inputWidgets": {},
     "nuid": "9fe7d9d5-fb41-41bb-8dc9-57b8c83d8934",
     "showTitle": false,
     "tableResultSettingsMap": {
      "0": {
       "dataGridStateBlob": "{\"version\":1,\"tableState\":{\"columnPinning\":{\"left\":[\"#row_number#\"],\"right\":[]},\"columnSizing\":{},\"columnVisibility\":{}},\"settings\":{\"columns\":{}},\"syncTimestamp\":1759769044614}",
       "filterBlob": null,
       "queryPlanFiltersBlob": null,
       "tableResultIndex": 0
      }
     },
     "title": ""
    }
   },
   "outputs": [],
   "source": [
    "%sql\n",
    "SELECT \n",
    "    codigo,\n",
    "    nome,\n",
    "    origem\n",
    "FROM (\n",
    "    SELECT \n",
    "        codigo,\n",
    "        nome,\n",
    "        origem,\n",
    "        extract,\n",
    "        ROW_NUMBER() OVER (PARTITION BY codigo ORDER BY extract DESC) AS rn\n",
    "    FROM nintendodatabricks_workspace.gold.consoles_recomendation\n",
    ")\n",
    "WHERE rn = 1\n",
    "ORDER BY codigo"
   ]
  },
  {
   "cell_type": "code",
   "execution_count": 0,
   "metadata": {
    "application/vnd.databricks.v1+cell": {
     "cellMetadata": {
      "byteLimit": 2048000,
      "implicitDf": true,
      "rowLimit": 10000
     },
     "inputWidgets": {},
     "nuid": "77a19f6d-4432-46a8-9150-89be673c5cae",
     "showTitle": false,
     "tableResultSettingsMap": {
      "0": {
       "dataGridStateBlob": "{\"version\":1,\"tableState\":{\"columnPinning\":{\"left\":[\"#row_number#\"],\"right\":[]},\"columnSizing\":{},\"columnVisibility\":{}},\"settings\":{\"columns\":{}},\"syncTimestamp\":1759769015721}",
       "filterBlob": null,
       "queryPlanFiltersBlob": null,
       "tableResultIndex": 0
      }
     },
     "title": ""
    }
   },
   "outputs": [],
   "source": [
    "%sql\n",
    "SELECT \n",
    "    codigo,\n",
    "    preco,\n",
    "    numero_parcelas,\n",
    "    valor_prestacao,\n",
    "    desconto,\n",
    "    `extract` as `data`\n",
    "\n",
    "FROM nintendodatabricks_workspace.gold.consoles_recomendation\n",
    "ORDER BY preco ASC"
   ]
  }
 ],
 "metadata": {
  "application/vnd.databricks.v1+notebook": {
   "computePreferences": {
    "hardware": {
     "accelerator": null,
     "gpuPoolId": null,
     "memory": null
    }
   },
   "dashboards": [],
   "environmentMetadata": {
    "base_environment": "",
    "environment_version": "3"
   },
   "inputWidgetPreferences": null,
   "language": "python",
   "notebookMetadata": {
    "mostRecentlyExecutedCommandWithImplicitDF": {
     "commandId": 7532074280640217,
     "dataframes": [
      "_sqldf"
     ]
    },
    "pythonIndentUnit": 4
   },
   "notebookName": "dlt-normalize",
   "widgets": {}
  },
  "language_info": {
   "name": "python"
  }
 },
 "nbformat": 4,
 "nbformat_minor": 0
}
