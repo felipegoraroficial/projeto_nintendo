{
 "cells": [
  {
   "cell_type": "code",
   "execution_count": 0,
   "metadata": {
    "application/vnd.databricks.v1+cell": {
     "cellMetadata": {},
     "inputWidgets": {},
     "nuid": "3eb84756-feba-482a-9521-96acd02f2850",
     "showTitle": false,
     "tableResultSettingsMap": {},
     "title": ""
    }
   },
   "outputs": [],
   "source": [
    "%sql\n",
    "WITH produtos AS (\n",
    "    SELECT\n",
    "        codigo,\n",
    "        nome,\n",
    "        origem\n",
    "\n",
    "    FROM nintendodatabrickswi86no_workspace.gold.products\n",
    "),\n",
    "preco AS (\n",
    "    SELECT\n",
    "        codigo,\n",
    "        preco\n",
    "    FROM nintendodatabrickswi86no_workspace.gold.price\n",
    "),\n",
    "\n",
    "detalhes AS (\n",
    "    SELECT\n",
    "        codigo,\n",
    "        oled,\n",
    "        link,\n",
    "        recomendacao\n",
    "    FROM nintendodatabrickswi86no_workspace.gold.details\n",
    "),\n",
    "\n",
    "produtos_filtrados AS (\n",
    "    SELECT\n",
    "        produtos.codigo,\n",
    "        produtos.nome,\n",
    "        produtos.origem,\n",
    "        preco.preco,\n",
    "        detalhes.oled,\n",
    "        detalhes.link,\n",
    "        detalhes.recomendacao\n",
    "    FROM produtos\n",
    "    JOIN preco ON produtos.codigo = preco.codigo\n",
    "    JOIN detalhes ON produtos.codigo = detalhes.codigo\n",
    "    WHERE detalhes.oled = 'Sim' AND produtos.origem IN (SELECT DISTINCT origem FROM nintendodatabrickswi86no_workspace.gold.products)\n",
    "),\n",
    "\n",
    "menores_precos AS (\n",
    "    SELECT\n",
    "        -- Macaramento da coluna Codigo inserindo '*' entre as informações\n",
    "        CONCAT(SUBSTR(codigo, 1, 2), REPEAT('*', LENGTH(codigo) - 4), SUBSTR(codigo, -2)) AS codigo,\n",
    "        preco AS menor_preco,\n",
    "        recomendacao,\n",
    "        origem,\n",
    "        -- Mascaramento do link obtendo tudo que está antes do '.com' para proteger o codigo do produto\n",
    "        REGEXP_EXTRACT(link, '^(.*?\\\\.com)') AS link\n",
    "\n",
    "    FROM produtos_filtrados\n",
    "    QUALIFY ROW_NUMBER() OVER (PARTITION BY origem ORDER BY preco ASC) = 1\n",
    "\n",
    ")\n",
    "\n",
    "SELECT * FROM menores_precos"
   ]
  }
 ],
 "metadata": {
  "application/vnd.databricks.v1+notebook": {
   "computePreferences": null,
   "dashboards": [],
   "environmentMetadata": {
    "base_environment": "",
    "environment_version": "3"
   },
   "inputWidgetPreferences": null,
   "language": "python",
   "notebookMetadata": {
    "pythonIndentUnit": 4
   },
   "notebookName": "dlt-metrics",
   "widgets": {}
  },
  "language_info": {
   "name": "python"
  }
 },
 "nbformat": 4,
 "nbformat_minor": 0
}
