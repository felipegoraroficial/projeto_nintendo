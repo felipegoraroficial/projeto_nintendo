{
 "cells": [
  {
   "cell_type": "code",
   "execution_count": 0,
   "metadata": {
    "application/vnd.databricks.v1+cell": {
     "cellMetadata": {
      "byteLimit": 2048000,
      "rowLimit": 10000
     },
     "inputWidgets": {},
     "nuid": "fe8a7877-a870-4d11-a52f-45dac900285c",
     "showTitle": false,
     "tableResultSettingsMap": {},
     "title": ""
    }
   },
   "outputs": [],
   "source": [
    "import logging\n",
    "from pyspark.sql.types import StructType, StructField, StringType, DoubleType, DateType, LongType \n",
    "from pyspark.sql import SparkSession\n",
    "from pyspark.dbutils import DBUtils\n",
    "import requests\n",
    "from datetime import datetime\n",
    "from pyspark.sql.functions import when, col, round, max"
   ]
  },
  {
   "cell_type": "code",
   "execution_count": 0,
   "metadata": {
    "application/vnd.databricks.v1+cell": {
     "cellMetadata": {
      "byteLimit": 2048000,
      "rowLimit": 10000
     },
     "inputWidgets": {},
     "nuid": "990ef9a0-4fa1-4d2e-8260-3a7fa07d8481",
     "showTitle": false,
     "tableResultSettingsMap": {},
     "title": ""
    }
   },
   "outputs": [],
   "source": [
    "logger = logging.getLogger(\"DeBugLoggerGoldNintendo\")\n",
    "\n",
    "logger.setLevel(logging.INFO)\n",
    "\n",
    "if not logger.handlers:\n",
    "    handler = logging.StreamHandler()\n",
    "    formatter = logging.Formatter('[%(levelname)s] %(asctime)s - %(message)s',\n",
    "                                  '%Y-%m-%d %H:%M:%S')\n",
    "    handler.setFormatter(formatter)\n",
    "    logger.addHandler(handler)"
   ]
  },
  {
   "cell_type": "code",
   "execution_count": 0,
   "metadata": {
    "application/vnd.databricks.v1+cell": {
     "cellMetadata": {
      "byteLimit": 2048000,
      "rowLimit": 10000
     },
     "inputWidgets": {},
     "nuid": "a4923427-9685-4318-ac7e-7eb042fbf13b",
     "showTitle": false,
     "tableResultSettingsMap": {},
     "title": ""
    }
   },
   "outputs": [],
   "source": [
    "def get_cdi_today():\n",
    "    url = \"https://brasilapi.com.br/api/taxas/v1/cdi\"\n",
    "    try:\n",
    "        response = requests.get(url)\n",
    "        response.raise_for_status()\n",
    "        data = response.json()\n",
    "        cdi = 1 + (data['valor'] / 100)\n",
    "        return cdi\n",
    "    except requests.exceptions.RequestException as e:\n",
    "        print(f\"Erro ao conectar à API da Brasil API: {e}\")\n",
    "        return None\n",
    "    except (ValueError, IndexError) as e:\n",
    "        print(f\"Erro ao processar os dados da API: {e}\")\n",
    "        return None\n",
    "\n",
    "cdi_data = get_cdi_today()"
   ]
  },
  {
   "cell_type": "code",
   "execution_count": 0,
   "metadata": {
    "application/vnd.databricks.v1+cell": {
     "cellMetadata": {
      "byteLimit": 2048000,
      "rowLimit": 10000
     },
     "inputWidgets": {},
     "nuid": "12979917-930c-413c-bea9-fac55d873841",
     "showTitle": false,
     "tableResultSettingsMap": {},
     "title": ""
    }
   },
   "outputs": [],
   "source": [
    "df_consoles = spark.read.table(\"nintendodatabricks_workspace.silver.consoles_silver\")"
   ]
  },
  {
   "cell_type": "code",
   "execution_count": 0,
   "metadata": {
    "application/vnd.databricks.v1+cell": {
     "cellMetadata": {
      "byteLimit": 2048000,
      "rowLimit": 10000
     },
     "inputWidgets": {},
     "nuid": "c256da2e-2245-4a6a-8712-a0e8944a7840",
     "showTitle": false,
     "tableResultSettingsMap": {},
     "title": ""
    }
   },
   "outputs": [],
   "source": [
    "df_price_desconto = df_consoles.withColumn(\"preco_desconto\", round(col(\"preco\") - (col(\"preco\") * col(\"desconto\")), 2))"
   ]
  },
  {
   "cell_type": "code",
   "execution_count": 0,
   "metadata": {
    "application/vnd.databricks.v1+cell": {
     "cellMetadata": {
      "byteLimit": 2048000,
      "rowLimit": 10000
     },
     "inputWidgets": {},
     "nuid": "83aac4a5-3ff7-465d-a697-487f4367efe5",
     "showTitle": false,
     "tableResultSettingsMap": {},
     "title": ""
    }
   },
   "outputs": [],
   "source": [
    "df_price_parcelado = df_price_desconto.withColumn(\"preco_parcelado\", round((col(\"valor_prestacao\") * col(\"numero_parcelas\")), 2))"
   ]
  },
  {
   "cell_type": "code",
   "execution_count": 0,
   "metadata": {
    "application/vnd.databricks.v1+cell": {
     "cellMetadata": {
      "byteLimit": 2048000,
      "rowLimit": 10000
     },
     "inputWidgets": {},
     "nuid": "ad5fb7cc-c1f8-462a-b7f9-661274eeb2d1",
     "showTitle": false,
     "tableResultSettingsMap": {},
     "title": ""
    }
   },
   "outputs": [],
   "source": [
    "df_save_desconto = df_price_parcelado.withColumn(\"save_desconto\", round((col(\"preco\") - col(\"preco_desconto\")), 2))"
   ]
  },
  {
   "cell_type": "code",
   "execution_count": 0,
   "metadata": {
    "application/vnd.databricks.v1+cell": {
     "cellMetadata": {
      "byteLimit": 2048000,
      "rowLimit": 10000
     },
     "inputWidgets": {},
     "nuid": "69f992ec-6ab9-45ad-b585-01d4e80bc2a9",
     "showTitle": false,
     "tableResultSettingsMap": {},
     "title": ""
    }
   },
   "outputs": [],
   "source": [
    "df_save_parcelado = df_save_desconto.withColumn(\n",
    "    \"save_parcelado\",\n",
    "    when((col(\"preco\") - col(\"preco_parcelado\")) * cdi_data <= 0, 0)\n",
    "    .otherwise(round(((col(\"preco\") - col(\"preco_parcelado\")) * cdi_data), 2))\n",
    ")"
   ]
  },
  {
   "cell_type": "code",
   "execution_count": 0,
   "metadata": {
    "application/vnd.databricks.v1+cell": {
     "cellMetadata": {
      "byteLimit": 2048000,
      "rowLimit": 10000
     },
     "inputWidgets": {},
     "nuid": "b573fa20-c51b-4f2a-b9fc-84b48151e67f",
     "showTitle": false,
     "tableResultSettingsMap": {},
     "title": ""
    }
   },
   "outputs": [],
   "source": [
    "df_pct_parcelado = df_save_parcelado.withColumn(\n",
    "    \"pct_preco_parcelado\",\n",
    "    round(100 -((col(\"preco_parcelado\") / col(\"preco\")) * 100), 2)\n",
    ")"
   ]
  },
  {
   "cell_type": "code",
   "execution_count": 0,
   "metadata": {
    "application/vnd.databricks.v1+cell": {
     "cellMetadata": {
      "byteLimit": 2048000,
      "rowLimit": 10000
     },
     "inputWidgets": {},
     "nuid": "32b9a998-d697-4d52-87f9-be2b5a9c0f7a",
     "showTitle": false,
     "tableResultSettingsMap": {},
     "title": ""
    }
   },
   "outputs": [],
   "source": [
    "df_recomendacao = df_pct_parcelado.withColumn(\n",
    "    \"recomendacao\",\n",
    "    when(col(\"desconto\") < col(\"pct_preco_parcelado\"), \"Comprar Parcelado\")\n",
    "    .when(col(\"desconto\") > col(\"pct_preco_parcelado\"), \"Comprar a Vista Pix\")\n",
    "    .otherwise(\"Sem Vantagem Identificada\")\n",
    ").drop(\"preco_desconto\", \"preco_parcelado\", \"save_desconto\", \"save_parcelado\", \"pct_preco_parcelado\")"
   ]
  },
  {
   "cell_type": "code",
   "execution_count": 0,
   "metadata": {
    "application/vnd.databricks.v1+cell": {
     "cellMetadata": {
      "byteLimit": 2048000,
      "rowLimit": 10000
     },
     "inputWidgets": {},
     "nuid": "b7e0bb18-61cd-4693-9c13-c71fc4dbb990",
     "showTitle": false,
     "tableResultSettingsMap": {},
     "title": ""
    }
   },
   "outputs": [],
   "source": [
    "display(df_recomendacao)"
   ]
  },
  {
   "cell_type": "code",
   "execution_count": 0,
   "metadata": {
    "application/vnd.databricks.v1+cell": {
     "cellMetadata": {
      "byteLimit": 2048000,
      "rowLimit": 10000
     },
     "inputWidgets": {},
     "nuid": "127908cc-f0fd-471b-a0ed-11825b51e071",
     "showTitle": false,
     "tableResultSettingsMap": {},
     "title": ""
    }
   },
   "outputs": [],
   "source": [
    "df_recomendacao.printSchema()"
   ]
  }
 ],
 "metadata": {
  "application/vnd.databricks.v1+notebook": {
   "computePreferences": null,
   "dashboards": [],
   "environmentMetadata": {
    "base_environment": "",
    "environment_version": "3"
   },
   "inputWidgetPreferences": null,
   "language": "python",
   "notebookMetadata": {
    "pythonIndentUnit": 4
   },
   "notebookName": "dlt-fine",
   "widgets": {}
  },
  "language_info": {
   "name": "python"
  }
 },
 "nbformat": 4,
 "nbformat_minor": 0
}
