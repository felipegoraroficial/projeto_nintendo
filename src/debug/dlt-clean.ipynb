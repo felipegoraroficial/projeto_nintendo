{
 "cells": [
  {
   "cell_type": "code",
   "execution_count": 0,
   "metadata": {
    "application/vnd.databricks.v1+cell": {
     "cellMetadata": {
      "byteLimit": 2048000,
      "rowLimit": 10000
     },
     "inputWidgets": {},
     "nuid": "e869fd5d-f498-48f4-8336-8ab66ef7e59e",
     "showTitle": false,
     "tableResultSettingsMap": {},
     "title": ""
    }
   },
   "outputs": [],
   "source": [
    "import logging\n",
    "import re\n",
    "from pyspark.sql.functions import col, to_timestamp, when, regexp_extract, lit, regexp_replace, udf\n",
    "from pyspark.sql.types import StringType, LongType, DoubleType"
   ]
  },
  {
   "cell_type": "code",
   "execution_count": 0,
   "metadata": {
    "application/vnd.databricks.v1+cell": {
     "cellMetadata": {
      "byteLimit": 2048000,
      "rowLimit": 10000
     },
     "inputWidgets": {},
     "nuid": "4b4fcc01-0a4f-4d98-a74d-4f41eb2f81be",
     "showTitle": false,
     "tableResultSettingsMap": {},
     "title": ""
    }
   },
   "outputs": [],
   "source": [
    "logger = logging.getLogger(\"DeBugLoggerSilverNintendo\")\n",
    "\n",
    "logger.setLevel(logging.INFO)\n",
    "\n",
    "if not logger.handlers:\n",
    "    handler = logging.StreamHandler()\n",
    "    formatter = logging.Formatter('[%(levelname)s] %(asctime)s - %(message)s',\n",
    "                                  '%Y-%m-%d %H:%M:%S')\n",
    "    handler.setFormatter(formatter)\n",
    "    logger.addHandler(handler)"
   ]
  },
  {
   "cell_type": "code",
   "execution_count": 0,
   "metadata": {
    "application/vnd.databricks.v1+cell": {
     "cellMetadata": {
      "byteLimit": 2048000,
      "rowLimit": 10000
     },
     "inputWidgets": {},
     "nuid": "8ae63802-6376-4825-b9e3-c6c84bc8a389",
     "showTitle": false,
     "tableResultSettingsMap": {},
     "title": ""
    }
   },
   "outputs": [],
   "source": [
    "df_consoles = spark.read.table(\"nintendodatabricks_workspace.bronze.consoles_ing\")"
   ]
  },
  {
   "cell_type": "code",
   "execution_count": 0,
   "metadata": {
    "application/vnd.databricks.v1+cell": {
     "cellMetadata": {
      "byteLimit": 2048000,
      "rowLimit": 10000
     },
     "inputWidgets": {},
     "nuid": "bb045ab7-5473-44e5-897c-4e8284d7ce1a",
     "showTitle": false,
     "tableResultSettingsMap": {},
     "title": ""
    }
   },
   "outputs": [],
   "source": [
    "dffiltered = df_consoles.filter(col(\"codigo\").isNotNull())"
   ]
  },
  {
   "cell_type": "code",
   "execution_count": 0,
   "metadata": {
    "application/vnd.databricks.v1+cell": {
     "cellMetadata": {
      "byteLimit": 2048000,
      "rowLimit": 10000
     },
     "inputWidgets": {},
     "nuid": "45b7c1c5-d3a2-4a10-a6c8-744c225509e2",
     "showTitle": false,
     "tableResultSettingsMap": {},
     "title": ""
    }
   },
   "outputs": [],
   "source": [
    "dftime = dffiltered.withColumn(\"extract\", to_timestamp(col(\"extract\"), \"yyyy-MM-dd HH:mm\"))"
   ]
  },
  {
   "cell_type": "code",
   "execution_count": 0,
   "metadata": {
    "application/vnd.databricks.v1+cell": {
     "cellMetadata": {
      "byteLimit": 2048000,
      "rowLimit": 10000
     },
     "inputWidgets": {},
     "nuid": "98816cf7-a908-4e65-b356-73abcc9e8837",
     "showTitle": false,
     "tableResultSettingsMap": {},
     "title": ""
    }
   },
   "outputs": [],
   "source": [
    "df_com_parcelas = dftime.withColumn(\n",
    "    \"numero_parcelas\",\n",
    "    when(col(\"parcelamento\").isNotNull(), regexp_extract(col(\"parcelamento\"), r'(\\d+)x', 1)).otherwise(lit(0))\n",
    ")\n",
    "df_com_parcelas = df_com_parcelas.withColumn(\"numero_parcelas\", col(\"numero_parcelas\").cast(LongType()))"
   ]
  },
  {
   "cell_type": "code",
   "execution_count": 0,
   "metadata": {
    "application/vnd.databricks.v1+cell": {
     "cellMetadata": {
      "byteLimit": 2048000,
      "rowLimit": 10000
     },
     "inputWidgets": {},
     "nuid": "30f55d03-4357-4808-b48d-2143f678c6ce",
     "showTitle": false,
     "tableResultSettingsMap": {},
     "title": ""
    }
   },
   "outputs": [],
   "source": [
    "df_com_valores = df_com_parcelas.withColumn(\n",
    "    \"valor_prestacao\",\n",
    "    when(col(\"parcelamento\").isNotNull(), regexp_extract(col(\"parcelamento\"), r'R\\$ (\\d+,\\d{2})', 1)).otherwise(lit(\"0\"))\n",
    ").withColumn(\n",
    "    \"valor_prestacao\",\n",
    "    when(col(\"valor_prestacao\") != '0',\n",
    "        regexp_replace(col(\"valor_prestacao\"), \",\", \".\").cast(DoubleType())\n",
    "    ).otherwise(lit(0.0))\n",
    ").drop(\"parcelamento\")"
   ]
  },
  {
   "cell_type": "code",
   "execution_count": 0,
   "metadata": {
    "application/vnd.databricks.v1+cell": {
     "cellMetadata": {
      "byteLimit": 2048000,
      "rowLimit": 10000
     },
     "inputWidgets": {},
     "nuid": "926ac7b3-b336-48b3-976f-e73a78c033b7",
     "showTitle": false,
     "tableResultSettingsMap": {},
     "title": ""
    }
   },
   "outputs": [],
   "source": [
    "df_desconto = df_com_valores.withColumn(\n",
    "    \"desconto\",\n",
    "    when(\n",
    "        col(\"desconto\").rlike(\"^\\d+%$\"),\n",
    "        (regexp_replace(col(\"desconto\"), \"%\", \"\").cast(DoubleType()) / 100)\n",
    "    ).otherwise(col(\"desconto\"))\n",
    ").withColumn(\"desconto\", col(\"desconto\").cast(DoubleType())).fillna({\"desconto\": 0.0})"
   ]
  },
  {
   "cell_type": "code",
   "execution_count": 0,
   "metadata": {
    "application/vnd.databricks.v1+cell": {
     "cellMetadata": {
      "byteLimit": 2048000,
      "rowLimit": 10000
     },
     "inputWidgets": {},
     "nuid": "291b9708-f19b-438d-b7f9-a725abeb8198",
     "showTitle": false,
     "tableResultSettingsMap": {},
     "title": ""
    }
   },
   "outputs": [],
   "source": [
    "df_preço = df_desconto.withColumn(\n",
    "    \"preco\",\n",
    "    when(\n",
    "        col(\"preco\").rlike(\"^R\\\\$?\\\\s?\\\\d{1,3}(\\\\.\\\\d{3})*(,\\\\d{2})?$\"),\n",
    "        regexp_replace(\n",
    "            regexp_replace(\n",
    "                regexp_replace(col(\"preco\"), \"R\\\\$\", \"\"), \n",
    "                \"\\\\.\", \"\" \n",
    "            ),\n",
    "            \",\", \".\"  \n",
    "        ).cast(DoubleType())\n",
    "    ).otherwise(col(\"preco\"))\n",
    ").withColumn(\"preco\", col(\"preco\").cast(DoubleType())).fillna({\"preco\": 0.0})"
   ]
  },
  {
   "cell_type": "code",
   "execution_count": 0,
   "metadata": {
    "application/vnd.databricks.v1+cell": {
     "cellMetadata": {
      "byteLimit": 2048000,
      "rowLimit": 10000
     },
     "inputWidgets": {},
     "nuid": "719d5247-51de-40ef-9306-b14a690afe94",
     "showTitle": false,
     "tableResultSettingsMap": {},
     "title": ""
    }
   },
   "outputs": [],
   "source": [
    "def extract_memory_info(info):\n",
    "    if isinstance(info, str) and info:\n",
    "        padrao = r'(\\d+)\\s*(G[Bb])'\n",
    "        resultado = re.search(padrao, info, re.IGNORECASE)\n",
    "        if resultado:\n",
    "            return resultado.group(0).upper()\n",
    "    return '-'\n",
    "\n",
    "extrair_memoria_udf = udf(extract_memory_info, StringType())\n",
    "\n",
    "df_memoria = df_preço.withColumn('memoria', extrair_memoria_udf(col(\"nome\")))"
   ]
  },
  {
   "cell_type": "code",
   "execution_count": 0,
   "metadata": {
    "application/vnd.databricks.v1+cell": {
     "cellMetadata": {
      "byteLimit": 2048000,
      "rowLimit": 10000
     },
     "inputWidgets": {},
     "nuid": "d7f49cf3-1ae7-49a0-a9f0-655b497c5360",
     "showTitle": false,
     "tableResultSettingsMap": {},
     "title": ""
    }
   },
   "outputs": [],
   "source": [
    "df_oled = df_memoria.withColumn('oled', when(col('nome').rlike('(?i)Oled'), 'Sim').otherwise('Nao'))"
   ]
  },
  {
   "cell_type": "code",
   "execution_count": 0,
   "metadata": {
    "application/vnd.databricks.v1+cell": {
     "cellMetadata": {
      "byteLimit": 2048000,
      "rowLimit": 10000
     },
     "inputWidgets": {},
     "nuid": "6bce0114-0f9c-4898-b858-733c3b50c9f5",
     "showTitle": false,
     "tableResultSettingsMap": {},
     "title": ""
    }
   },
   "outputs": [],
   "source": [
    "df_final = df_oled.select(\n",
    "    \"codigo\",\n",
    "    \"nome\",\n",
    "    \"preco\",\n",
    "    \"desconto\",\n",
    "    \"numero_parcelas\",\n",
    "    \"valor_prestacao\",\n",
    "    \"origem\",\n",
    "    \"link\",\n",
    "    \"memoria\",\n",
    "    \"oled\",\n",
    "    \"extract\"\n",
    ")"
   ]
  },
  {
   "cell_type": "code",
   "execution_count": 0,
   "metadata": {
    "application/vnd.databricks.v1+cell": {
     "cellMetadata": {
      "byteLimit": 2048000,
      "rowLimit": 10000
     },
     "inputWidgets": {},
     "nuid": "2bbcdc7f-6d70-4495-a0cc-73aff3fb4e58",
     "showTitle": false,
     "tableResultSettingsMap": {
      "0": {
       "dataGridStateBlob": "{\"version\":1,\"tableState\":{\"columnPinning\":{\"left\":[\"#row_number#\"],\"right\":[]},\"columnSizing\":{\"extract\":193},\"columnVisibility\":{}},\"settings\":{\"columns\":{\"link\":{\"format\":{\"preset\":\"string-preset-url\"}}}},\"syncTimestamp\":1759757572652}",
       "filterBlob": null,
       "queryPlanFiltersBlob": null,
       "tableResultIndex": 0
      }
     },
     "title": ""
    }
   },
   "outputs": [],
   "source": [
    "display(df_final)"
   ]
  },
  {
   "cell_type": "code",
   "execution_count": 0,
   "metadata": {
    "application/vnd.databricks.v1+cell": {
     "cellMetadata": {
      "byteLimit": 2048000,
      "rowLimit": 10000
     },
     "inputWidgets": {},
     "nuid": "bbebafc7-5f3d-48c5-b556-35b1c868fcb6",
     "showTitle": false,
     "tableResultSettingsMap": {},
     "title": ""
    }
   },
   "outputs": [],
   "source": [
    "df_final.printSchema()"
   ]
  }
 ],
 "metadata": {
  "application/vnd.databricks.v1+notebook": {
   "computePreferences": null,
   "dashboards": [],
   "environmentMetadata": {
    "base_environment": "",
    "environment_version": "3"
   },
   "inputWidgetPreferences": null,
   "language": "python",
   "notebookMetadata": {
    "pythonIndentUnit": 4
   },
   "notebookName": "dlt-clean",
   "widgets": {}
  },
  "language_info": {
   "name": "python"
  }
 },
 "nbformat": 4,
 "nbformat_minor": 0
}
