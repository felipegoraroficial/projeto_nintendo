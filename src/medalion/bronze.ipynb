{
 "cells": [
  {
   "cell_type": "code",
   "execution_count": 0,
   "metadata": {
    "application/vnd.databricks.v1+cell": {
     "cellMetadata": {
      "byteLimit": 2048000,
      "implicitDf": true,
      "rowLimit": 10000
     },
     "inputWidgets": {},
     "nuid": "eed8adbf-ede4-425c-9296-f5171db81d63",
     "showTitle": false,
     "tableResultSettingsMap": {},
     "title": ""
    }
   },
   "outputs": [],
   "source": [
    "%sql\n",
    "CREATE SCHEMA IF NOT EXISTS nintendodatabricks_workspace.bronze"
   ]
  },
  {
   "cell_type": "code",
   "execution_count": 0,
   "metadata": {
    "application/vnd.databricks.v1+cell": {
     "cellMetadata": {
      "byteLimit": 2048000,
      "implicitDf": true,
      "rowLimit": 10000
     },
     "inputWidgets": {},
     "nuid": "740545de-b966-45a2-9255-afcda23c2cf0",
     "showTitle": false,
     "tableResultSettingsMap": {},
     "title": ""
    }
   },
   "outputs": [],
   "source": [
    "%sql\n",
    "CREATE EXTERNAL TABLE IF NOT EXISTS nintendodatabricks_workspace.bronze.nintendo (\n",
    "  codigo STRING,\n",
    "  nome STRING,\n",
    "  preco STRING,\n",
    "  desconto STRING,\n",
    "  parcelamento STRING,\n",
    "  link STRING,\n",
    "  origem STRING\n",
    ")\n",
    "USING PARQUET\n",
    "LOCATION 'abfss://nintendo@nintendostorageaccount.dfs.core.windows.net/bronze/'"
   ]
  },
  {
   "cell_type": "code",
   "execution_count": 0,
   "metadata": {
    "application/vnd.databricks.v1+cell": {
     "cellMetadata": {
      "byteLimit": 2048000,
      "rowLimit": 10000
     },
     "inputWidgets": {},
     "nuid": "6f89d7b5-255f-4750-8c69-3a704ba47dc2",
     "showTitle": false,
     "tableResultSettingsMap": {},
     "title": ""
    }
   },
   "outputs": [],
   "source": [
    "%pip install pytest"
   ]
  },
  {
   "cell_type": "code",
   "execution_count": 0,
   "metadata": {
    "application/vnd.databricks.v1+cell": {
     "cellMetadata": {
      "byteLimit": 2048000,
      "rowLimit": 10000
     },
     "inputWidgets": {},
     "nuid": "27c57829-f585-4691-b652-b874bb3f3488",
     "showTitle": false,
     "tableResultSettingsMap": {},
     "title": ""
    }
   },
   "outputs": [],
   "source": [
    "import pytest\n",
    "from pyspark.sql.utils import AnalysisException\n",
    "from pyspark.sql.functions import col\n",
    "\n",
    "table_name = \"nintendodatabricks_workspace.bronze.nintendo\"\n",
    "expected_schema = [\"codigo\", \"nome\", \"preco\", \"desconto\", \"parcelamento\", \"link\", \"origem\"]\n",
    "\n",
    "def check_table_exists(table):\n",
    "    try:\n",
    "        spark.table(table)\n",
    "        return True\n",
    "    except AnalysisException:\n",
    "        return False\n",
    "\n",
    "def check_external_table(table):\n",
    "    desc = spark.sql(f\"DESCRIBE EXTENDED {table}\").collect()\n",
    "    for row in desc:\n",
    "        if row.col_name == 'Type' and 'EXTERNAL' in row.data_type.upper():\n",
    "            return True\n",
    "    return False\n",
    "\n",
    "def check_schema(table, expected_cols):\n",
    "    df = spark.table(table)\n",
    "    actual_cols = df.columns\n",
    "    return set(actual_cols) == set(expected_cols)\n",
    "\n",
    "def check_nulls(table):\n",
    "    df = spark.table(table)\n",
    "    null_counts = {}\n",
    "    for c in df.columns:\n",
    "        cnt = df.filter(col(c).isNull()).count()\n",
    "        null_counts[c] = cnt\n",
    "    return null_counts\n",
    "\n",
    "def check_not_empty(table):\n",
    "    df = spark.table(table)\n",
    "    return not df.rdd.isEmpty()\n",
    "\n",
    "@pytest.mark.parametrize(\"table\", [table_name])\n",
    "def test_table_exists(table):\n",
    "    assert check_table_exists(table), f\"Table {table} should exist\"\n",
    "\n",
    "@pytest.mark.parametrize(\"table\", [table_name])\n",
    "def test_is_external_table(table):\n",
    "    assert check_external_table(table), f\"Table {table} should be an external table\"\n",
    "\n",
    "@pytest.mark.parametrize(\"table,expected_cols\", [(table_name, expected_schema)])\n",
    "def test_schema(table, expected_cols):\n",
    "    assert check_schema(table, expected_cols), f\"Schema of table {table} does not match expected\"\n",
    "\n",
    "@pytest.mark.parametrize(\"table\", [table_name])\n",
    "def test_no_nulls(table):\n",
    "    nulls = check_nulls(table)\n",
    "    null_columns = [col for col, cnt in nulls.items() if cnt > 0]\n",
    "    assert not null_columns, f\"Columns with null values: {null_columns}\"\n",
    "\n",
    "@pytest.mark.parametrize(\"table\", [table_name])\n",
    "def test_not_empty(table):\n",
    "    assert check_not_empty(table), f\"Table {table} is empty\"\n"
   ]
  }
 ],
 "metadata": {
  "application/vnd.databricks.v1+notebook": {
   "computePreferences": {
    "hardware": {
     "accelerator": null,
     "gpuPoolId": null,
     "memory": null
    }
   },
   "dashboards": [],
   "environmentMetadata": {
    "base_environment": "",
    "environment_version": "2"
   },
   "inputWidgetPreferences": null,
   "language": "python",
   "notebookMetadata": {
    "mostRecentlyExecutedCommandWithImplicitDF": {
     "commandId": 7671482414530496,
     "dataframes": [
      "_sqldf"
     ]
    },
    "pythonIndentUnit": 4
   },
   "notebookName": "bronze",
   "widgets": {}
  },
  "language_info": {
   "name": "python"
  }
 },
 "nbformat": 4,
 "nbformat_minor": 0
}
