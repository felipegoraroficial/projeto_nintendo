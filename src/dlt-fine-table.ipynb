{
 "cells": [
  {
   "cell_type": "code",
   "execution_count": 0,
   "metadata": {
    "application/vnd.databricks.v1+cell": {
     "cellMetadata": {},
     "inputWidgets": {},
     "nuid": "21625974-2e4b-43e3-a9df-1d25e8364473",
     "showTitle": false,
     "tableResultSettingsMap": {},
     "title": ""
    }
   },
   "outputs": [],
   "source": [
    "import logging\n",
    "from pyspark.sql.types import StructType, StructField, StringType, DoubleType, DateType, LongType \n",
    "from pyspark.sql import SparkSession\n",
    "from pyspark.dbutils import DBUtils\n",
    "import requests\n",
    "from datetime import datetime\n",
    "from pyspark.sql.functions import when, col, round, max"
   ]
  },
  {
   "cell_type": "code",
   "execution_count": 0,
   "metadata": {
    "application/vnd.databricks.v1+cell": {
     "cellMetadata": {},
     "inputWidgets": {},
     "nuid": "fb857b8d-8381-4096-8024-4ec32c4f6595",
     "showTitle": false,
     "tableResultSettingsMap": {},
     "title": ""
    }
   },
   "outputs": [],
   "source": [
    "logger = logging.getLogger(\"DLTLoggerGoldNintendo\")\n",
    "\n",
    "logger.setLevel(logging.INFO)\n",
    "\n",
    "if not logger.handlers:\n",
    "    handler = logging.StreamHandler()\n",
    "    formatter = logging.Formatter('[%(levelname)s] %(asctime)s - %(message)s',\n",
    "                                  '%Y-%m-%d %H:%M:%S')\n",
    "    handler.setFormatter(formatter)\n",
    "    logger.addHandler(handler)"
   ]
  },
  {
   "cell_type": "code",
   "execution_count": 0,
   "metadata": {
    "application/vnd.databricks.v1+cell": {
     "cellMetadata": {},
     "inputWidgets": {},
     "nuid": "a62fcaa5-a343-44bf-b30e-34ce03ca9f49",
     "showTitle": false,
     "tableResultSettingsMap": {},
     "title": ""
    }
   },
   "outputs": [],
   "source": [
    "def get_cdi_today():\n",
    "    url = \"https://brasilapi.com.br/api/taxas/v1/cdi\"\n",
    "    try:\n",
    "        response = requests.get(url)\n",
    "        response.raise_for_status()\n",
    "        data = response.json()\n",
    "        cdi = 1 + (data['valor'] / 100)\n",
    "        return cdi\n",
    "    except requests.exceptions.RequestException as e:\n",
    "        print(f\"Erro ao conectar à API da Brasil API: {e}\")\n",
    "        return None\n",
    "    except (ValueError, IndexError) as e:\n",
    "        print(f\"Erro ao processar os dados da API: {e}\")\n",
    "        return None"
   ]
  },
  {
   "cell_type": "code",
   "execution_count": 0,
   "metadata": {
    "application/vnd.databricks.v1+cell": {
     "cellMetadata": {},
     "inputWidgets": {},
     "nuid": "88c6afc9-9aec-4afe-b501-f97ed23d7dbd",
     "showTitle": false,
     "tableResultSettingsMap": {},
     "title": ""
    }
   },
   "outputs": [],
   "source": [
    "@dlt.table(\n",
    "    name=\"nintendodatabricks_workspace.gold.consoles_recomendation\",\n",
    "    comment=\"Tabela de recomendação de consoles particionada por liquid cluster\",\n",
    "    cluster_by=[\"codigo\",\"extract\"]\n",
    ")\n",
    "\n",
    "@dlt.expect(\"recomendacao_string_not_null\", \"typeof(recomendacao) = 'string' AND recomendacao IS NOT NULL\")\n",
    "\n",
    "def console_gold():\n",
    "\n",
    "    logger.info(\"Leitura da tabela Silver iniciada...\")\n",
    "\n",
    "    cdi_data = get_cdi_today()\n",
    "\n",
    "    df = dlt.read(\"nintendodatabricks_workspace.silver.consoles_silver\") \n",
    "\n",
    "    df_price_desconto = df.withColumn(\"preco_desconto\", round(col(\"preco\") - (col(\"preco\") * col(\"desconto\")), 2))\n",
    "\n",
    "    df_price_parcelado = df_price_desconto.withColumn(\"preco_parcelado\", round((col(\"valor_prestacao\") * col(\"numero_parcelas\")), 2))\n",
    "\n",
    "    df_save_desconto = df_price_parcelado.withColumn(\"save_desconto\", round((col(\"preco\") - col(\"preco_desconto\")), 2))\n",
    "\n",
    "    df_save_parcelado = df_save_desconto.withColumn(\n",
    "        \"save_parcelado\",\n",
    "        when((col(\"preco\") - col(\"preco_parcelado\")) * cdi_data <= 0, 0)\n",
    "        .otherwise(round(((col(\"preco\") - col(\"preco_parcelado\")) * cdi_data), 2))\n",
    "    )\n",
    "\n",
    "    df_pct_parcelado = df_save_parcelado.withColumn(\n",
    "        \"pct_preco_parcelado\",\n",
    "        round(100 -((col(\"preco_parcelado\") / col(\"preco\")) * 100), 2)\n",
    "    )\n",
    "\n",
    "    df_final = df_pct_parcelado.withColumn(\n",
    "        \"recomendacao\",\n",
    "        when(col(\"desconto\") < col(\"pct_preco_parcelado\"), \"Comprar Parcelado\")\n",
    "        .when(col(\"desconto\") > col(\"pct_preco_parcelado\"), \"Comprar a Vista Pix\")\n",
    "        .otherwise(\"Sem Vantagem Identificada\")\n",
    "    ).drop(\"preco_desconto\", \"preco_parcelado\", \"save_desconto\", \"save_parcelado\", \"pct_preco_parcelado\")\n",
    "\n",
    "    logger.info(\"Carregando tabela de recomendação\")\n",
    "\n",
    "    return df_final"
   ]
  }
 ],
 "metadata": {
  "application/vnd.databricks.v1+notebook": {
   "computePreferences": null,
   "dashboards": [],
   "environmentMetadata": {
    "base_environment": "",
    "environment_version": "3"
   },
   "inputWidgetPreferences": null,
   "language": "python",
   "notebookMetadata": {
    "pythonIndentUnit": 4
   },
   "notebookName": "dlt-fine-table",
   "widgets": {}
  },
  "language_info": {
   "name": "python"
  }
 },
 "nbformat": 4,
 "nbformat_minor": 0
}
