{
 "cells": [
  {
   "cell_type": "markdown",
   "metadata": {
    "application/vnd.databricks.v1+cell": {
     "cellMetadata": {},
     "inputWidgets": {},
     "nuid": "3b6f54ab-c960-4b3c-9d6a-b1b015ba78ae",
     "showTitle": false,
     "tableResultSettingsMap": {},
     "title": ""
    }
   },
   "source": [
    "## Status de Jobs"
   ]
  },
  {
   "cell_type": "code",
   "execution_count": 0,
   "metadata": {
    "application/vnd.databricks.v1+cell": {
     "cellMetadata": {},
     "inputWidgets": {},
     "nuid": "8a087c39-90f6-4dfa-8ee6-0508f31cf28d",
     "showTitle": false,
     "tableResultSettingsMap": {},
     "title": ""
    }
   },
   "outputs": [],
   "source": [
    "%sql\n",
    "WITH resultados AS (\n",
    "  SELECT \n",
    "    CASE \n",
    "      WHEN result_state = 'SUCCEEDED' THEN 'SUCCESS'\n",
    "      WHEN result_state IN ('ERROR', 'FAILED', 'SKIPPED') THEN 'ERROR'\n",
    "      WHEN result_state = 'TIMED_OUT' THEN 'TIMED_OUT'\n",
    "      ELSE 'OTHER'\n",
    "    END AS result_state\n",
    "  FROM system.lakeflow.job_task_run_timeline\n",
    "  WHERE period_start_time > (SELECT MIN(change_time) FROM system.lakeflow.jobs)\n",
    "    AND job_id IN (\n",
    "      SELECT DISTINCT job_id\n",
    "      FROM system.lakeflow.jobs\n",
    "      WHERE change_time > (SELECT MAX(delete_time) + INTERVAL 1 MINUTE FROM system.lakeflow.jobs)\n",
    "    )\n",
    ")\n",
    "SELECT \n",
    "  result_state,\n",
    "  COUNT(*) AS total_count\n",
    "FROM resultados\n",
    "GROUP BY result_state\n",
    "ORDER BY total_count DESC;\n"
   ]
  },
  {
   "cell_type": "markdown",
   "metadata": {
    "application/vnd.databricks.v1+cell": {
     "cellMetadata": {},
     "inputWidgets": {},
     "nuid": "fe9ffa7d-044e-4240-9552-aeaff4720ca7",
     "showTitle": false,
     "tableResultSettingsMap": {},
     "title": ""
    }
   },
   "source": [
    "## Task com mais Erros"
   ]
  },
  {
   "cell_type": "code",
   "execution_count": 0,
   "metadata": {
    "application/vnd.databricks.v1+cell": {
     "cellMetadata": {},
     "inputWidgets": {},
     "nuid": "293992c7-8f73-48a5-9476-0b46a3e8f05c",
     "showTitle": false,
     "tableResultSettingsMap": {},
     "title": ""
    }
   },
   "outputs": [],
   "source": [
    "%sql\n",
    "SELECT \n",
    "  task_key,\n",
    "  COUNT(*) AS error_count\n",
    "FROM system.lakeflow.job_task_run_timeline\n",
    "WHERE result_state IN ('ERROR', 'FAILED', 'SKIPPED')\n",
    "  AND period_start_time > (SELECT MIN(change_time) FROM system.lakeflow.jobs)\n",
    "  AND job_id IN (\n",
    "    SELECT DISTINCT job_id\n",
    "    FROM system.lakeflow.jobs\n",
    "    WHERE change_time > (SELECT MAX(delete_time) + INTERVAL 1 MINUTE FROM system.lakeflow.jobs)\n",
    "  )\n",
    "GROUP BY task_key\n",
    "ORDER BY error_count DESC"
   ]
  },
  {
   "cell_type": "markdown",
   "metadata": {
    "application/vnd.databricks.v1+cell": {
     "cellMetadata": {},
     "inputWidgets": {},
     "nuid": "54ed4d9e-68f1-451c-9520-1e7400dad0cd",
     "showTitle": false,
     "tableResultSettingsMap": {},
     "title": ""
    }
   },
   "source": [
    "## Lista de Task com maiores duração"
   ]
  },
  {
   "cell_type": "code",
   "execution_count": 0,
   "metadata": {
    "application/vnd.databricks.v1+cell": {
     "cellMetadata": {},
     "inputWidgets": {},
     "nuid": "6e8d4b37-b0d6-4eb4-baa8-77a851043180",
     "showTitle": false,
     "tableResultSettingsMap": {},
     "title": ""
    }
   },
   "outputs": [],
   "source": []
  }
 ],
 "metadata": {
  "application/vnd.databricks.v1+notebook": {
   "computePreferences": null,
   "dashboards": [],
   "environmentMetadata": {
    "base_environment": "",
    "environment_version": "2"
   },
   "inputWidgetPreferences": null,
   "language": "python",
   "notebookMetadata": {
    "pythonIndentUnit": 4
   },
   "notebookName": "job",
   "widgets": {}
  },
  "language_info": {
   "name": "python"
  }
 },
 "nbformat": 4,
 "nbformat_minor": 0
}
