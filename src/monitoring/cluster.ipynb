{
 "cells": [
  {
   "cell_type": "markdown",
   "metadata": {
    "application/vnd.databricks.v1+cell": {
     "cellMetadata": {},
     "inputWidgets": {},
     "nuid": "8aac3d79-f257-4312-a30f-6b3b494d00ba",
     "showTitle": false,
     "tableResultSettingsMap": {},
     "title": ""
    }
   },
   "source": [
    "## Quantidade de cluster"
   ]
  },
  {
   "cell_type": "code",
   "execution_count": 0,
   "metadata": {
    "application/vnd.databricks.v1+cell": {
     "cellMetadata": {},
     "inputWidgets": {},
     "nuid": "3d59b40f-943e-490e-91f2-034343ab09c5",
     "showTitle": false,
     "tableResultSettingsMap": {},
     "title": ""
    }
   },
   "outputs": [],
   "source": [
    "%sql\n",
    "WITH distinct_count AS (\n",
    "  SELECT COUNT(DISTINCT cluster_id) AS distinct_cluster_id_count\n",
    "  FROM system.compute.clusters\n",
    "  WHERE workspace_id = '1942930051229702'\n",
    ")\n",
    "SELECT \n",
    "  cluster_id,\n",
    "  dc.distinct_cluster_id_count\n",
    "FROM system.compute.clusters sc\n",
    "CROSS JOIN distinct_count dc\n",
    "WHERE sc.workspace_id = '1942930051229702'\n",
    "  AND (\n",
    "    (sc.cluster_name LIKE 'job%' AND sc.create_time = (\n",
    "      SELECT MAX(create_time)\n",
    "      FROM system.compute.clusters\n",
    "      WHERE workspace_id = '1942930051229702'\n",
    "    ))\n",
    "    OR sc.cluster_name NOT LIKE 'job%'\n",
    "  )"
   ]
  },
  {
   "cell_type": "markdown",
   "metadata": {
    "application/vnd.databricks.v1+cell": {
     "cellMetadata": {},
     "inputWidgets": {},
     "nuid": "01643866-1636-4aea-a124-1c7e7453c3c4",
     "showTitle": false,
     "tableResultSettingsMap": {},
     "title": ""
    }
   },
   "source": [
    "## Consumo de DBU"
   ]
  },
  {
   "cell_type": "code",
   "execution_count": 0,
   "metadata": {
    "application/vnd.databricks.v1+cell": {
     "cellMetadata": {},
     "inputWidgets": {},
     "nuid": "cb50883c-0b2b-4ed8-a103-e4676d67d64d",
     "showTitle": false,
     "tableResultSettingsMap": {},
     "title": ""
    }
   },
   "outputs": [],
   "source": [
    "%sql\n",
    "SELECT \n",
    "    ROUND(CAST(SUM(u.usage_quantity) AS FLOAT), 2) AS total_usage_quantity\n",
    "FROM `system`.billing.usage u\n",
    "WHERE u.workspace_id = '1942930051229702';"
   ]
  },
  {
   "cell_type": "markdown",
   "metadata": {
    "application/vnd.databricks.v1+cell": {
     "cellMetadata": {},
     "inputWidgets": {},
     "nuid": "7303c26a-10ad-40d7-b2a3-f5679cf880fd",
     "showTitle": false,
     "tableResultSettingsMap": {},
     "title": ""
    }
   },
   "source": [
    "## Utilização de CPU"
   ]
  },
  {
   "cell_type": "code",
   "execution_count": 0,
   "metadata": {
    "application/vnd.databricks.v1+cell": {
     "cellMetadata": {},
     "inputWidgets": {},
     "nuid": "c739cc10-fd74-4b80-845f-e804eb6335db",
     "showTitle": false,
     "tableResultSettingsMap": {},
     "title": ""
    }
   },
   "outputs": [],
   "source": [
    "%sql\n",
    "SELECT \n",
    "  cluster_id,\n",
    "  DATE(start_time) AS start_time,\n",
    "  MAX(cpu_user_percent) AS max_cpu_user_percent\n",
    "FROM system.compute.node_timeline\n",
    "WHERE workspace_id = '1942930051229702'\n",
    "  AND cluster_id IN (\n",
    "    SELECT cluster_id\n",
    "    FROM system.compute.clusters\n",
    "    WHERE workspace_id = '1942930051229702'\n",
    "      AND (\n",
    "        (cluster_name LIKE 'job%' AND create_time = (\n",
    "          SELECT MAX(create_time)\n",
    "          FROM system.compute.clusters\n",
    "          WHERE workspace_id = '1942930051229702'\n",
    "        ))\n",
    "        OR cluster_name NOT LIKE 'job%'\n",
    "      )\n",
    "  )\n",
    "GROUP BY cluster_id, DATE(start_time)\n",
    "ORDER BY cluster_id, start_time"
   ]
  },
  {
   "cell_type": "markdown",
   "metadata": {
    "application/vnd.databricks.v1+cell": {
     "cellMetadata": {},
     "inputWidgets": {},
     "nuid": "4a46e52f-5936-4016-bb7a-7c133c26ecaa",
     "showTitle": false,
     "tableResultSettingsMap": {},
     "title": ""
    }
   },
   "source": [
    "## Custo de utilização de cluster"
   ]
  },
  {
   "cell_type": "code",
   "execution_count": 0,
   "metadata": {
    "application/vnd.databricks.v1+cell": {
     "cellMetadata": {},
     "inputWidgets": {},
     "nuid": "74c6f13a-ba8a-4e65-88b6-0c8c68e03206",
     "showTitle": false,
     "tableResultSettingsMap": {},
     "title": ""
    }
   },
   "outputs": [],
   "source": [
    "%sql\n",
    "SELECT \n",
    "    CAST(SUM(u.usage_quantity * lp.default) AS FLOAT) AS total_cost_cluster\n",
    "FROM `system`.billing.usage u\n",
    "LEFT JOIN (\n",
    "    SELECT \n",
    "        sku_name,\n",
    "        pricing.default,\n",
    "        DATE(price_start_time) AS price_start_date\n",
    "    FROM system.billing.list_prices\n",
    "    WHERE (sku_name, price_start_time) IN (\n",
    "        SELECT \n",
    "            sku_name, \n",
    "            MAX(price_start_time) AS max_price_start_time\n",
    "        FROM system.billing.list_prices\n",
    "        GROUP BY sku_name\n",
    "    )\n",
    ") lp\n",
    "ON u.sku_name = lp.sku_name\n",
    "WHERE u.workspace_id = '1942930051229702'"
   ]
  },
  {
   "cell_type": "markdown",
   "metadata": {
    "application/vnd.databricks.v1+cell": {
     "cellMetadata": {},
     "inputWidgets": {},
     "nuid": "e0c04e97-9ab7-4ea6-92c4-9c9433bc5281",
     "showTitle": false,
     "tableResultSettingsMap": {},
     "title": ""
    }
   },
   "source": [
    "## Custo por SKU"
   ]
  },
  {
   "cell_type": "code",
   "execution_count": 0,
   "metadata": {
    "application/vnd.databricks.v1+cell": {
     "cellMetadata": {},
     "inputWidgets": {},
     "nuid": "54132dad-1f78-4f8b-94c9-406f516458b5",
     "showTitle": false,
     "tableResultSettingsMap": {},
     "title": ""
    }
   },
   "outputs": [],
   "source": [
    "%sql\n",
    "SELECT \n",
    "    u.sku_name,\n",
    "    CAST(SUM(u.usage_quantity * lp.default) AS FLOAT) AS total_cost_cluster\n",
    "FROM `system`.billing.usage u\n",
    "LEFT JOIN (\n",
    "    SELECT \n",
    "        sku_name,\n",
    "        pricing.default,\n",
    "        DATE(price_start_time) AS price_start_date\n",
    "    FROM system.billing.list_prices\n",
    "    WHERE (sku_name, price_start_time) IN (\n",
    "        SELECT \n",
    "            sku_name, \n",
    "            MAX(price_start_time) AS max_price_start_time\n",
    "        FROM system.billing.list_prices\n",
    "        GROUP BY sku_name\n",
    "    )\n",
    ") lp\n",
    "ON u.sku_name = lp.sku_name\n",
    "WHERE u.workspace_id = '1942930051229702'\n",
    "GROUP BY u.sku_name\n",
    "ORDER BY total_cost_cluster DESC\n"
   ]
  },
  {
   "cell_type": "markdown",
   "metadata": {
    "application/vnd.databricks.v1+cell": {
     "cellMetadata": {},
     "inputWidgets": {},
     "nuid": "e28586f4-d61e-4bc0-bc2a-a9a6ea62577e",
     "showTitle": false,
     "tableResultSettingsMap": {},
     "title": ""
    }
   },
   "source": [
    "## Evolução de utilização de DBU"
   ]
  },
  {
   "cell_type": "code",
   "execution_count": 0,
   "metadata": {
    "application/vnd.databricks.v1+cell": {
     "cellMetadata": {},
     "inputWidgets": {},
     "nuid": "82eb97c9-6e70-47ee-8265-10e0ab0e4a57",
     "showTitle": false,
     "tableResultSettingsMap": {},
     "title": ""
    }
   },
   "outputs": [],
   "source": [
    "%sql\n",
    "SELECT \n",
    "    DATE(u.usage_end_time) AS usage_end_date,\n",
    "    ROUND(CAST(SUM(u.usage_quantity) AS FLOAT), 2) AS total_dbu_usage\n",
    "FROM `system`.billing.usage u\n",
    "WHERE u.workspace_id = '1942930051229702'\n",
    "  AND DATE(u.usage_end_time) >= DATE_ADD(CURRENT_DATE, -7)\n",
    "GROUP BY DATE(u.usage_end_time)\n",
    "ORDER BY usage_end_date ASC"
   ]
  },
  {
   "cell_type": "markdown",
   "metadata": {
    "application/vnd.databricks.v1+cell": {
     "cellMetadata": {},
     "inputWidgets": {},
     "nuid": "17c1b4c2-e70a-4a67-8e4f-15cf2ccee60e",
     "showTitle": false,
     "tableResultSettingsMap": {},
     "title": ""
    }
   },
   "source": [
    "## Lista de cluster"
   ]
  },
  {
   "cell_type": "code",
   "execution_count": 0,
   "metadata": {
    "application/vnd.databricks.v1+cell": {
     "cellMetadata": {},
     "inputWidgets": {},
     "nuid": "87ce2024-6d89-4d91-9687-b0a4cad99cba",
     "showTitle": false,
     "tableResultSettingsMap": {},
     "title": ""
    }
   },
   "outputs": [],
   "source": [
    "%sql\n",
    "SELECT \n",
    "cluster_name, \n",
    "create_time,\n",
    "change_time, \n",
    "driver_node_type, \n",
    "worker_node_type, \n",
    "dbr_version,  \n",
    "data_security_mode\n",
    "FROM `system`.compute.clusters\n",
    "WHERE workspace_id = '1942930051229702'\n",
    "  AND (cluster_name LIKE 'job%' AND create_time = (SELECT MAX(create_time) FROM `system`.compute.clusters WHERE workspace_id = '1942930051229702') OR cluster_name NOT LIKE 'job%')"
   ]
  }
 ],
 "metadata": {
  "application/vnd.databricks.v1+notebook": {
   "computePreferences": null,
   "dashboards": [],
   "environmentMetadata": {
    "base_environment": "",
    "environment_version": "2"
   },
   "inputWidgetPreferences": null,
   "language": "python",
   "notebookMetadata": {
    "pythonIndentUnit": 4
   },
   "notebookName": "cluster",
   "widgets": {}
  },
  "language_info": {
   "name": "python"
  }
 },
 "nbformat": 4,
 "nbformat_minor": 0
}
