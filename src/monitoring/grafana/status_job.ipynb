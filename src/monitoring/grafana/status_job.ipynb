{
 "cells": [
  {
   "cell_type": "code",
   "execution_count": 0,
   "metadata": {
    "application/vnd.databricks.v1+cell": {
     "cellMetadata": {
      "byteLimit": 2048000,
      "implicitDf": true,
      "rowLimit": 10000
     },
     "inputWidgets": {},
     "nuid": "bc43bd89-b418-435a-a8cc-97774723accc",
     "showTitle": false,
     "tableResultSettingsMap": {},
     "title": ""
    }
   },
   "outputs": [],
   "source": [
    "%sql\n",
    "SELECT \n",
    "  account_id,\n",
    "  workspace_id,\n",
    "  job_id,\n",
    "  run_id,\n",
    "  period_start_time,\n",
    "  period_end_time,\n",
    "  task_key,\n",
    "  compute_ids,\n",
    "  result_state,\n",
    "  job_run_id,\n",
    "  parent_run_id,\n",
    "  CASE \n",
    "    WHEN result_state = 'SUCCESS' THEN 'SUCCESS'\n",
    "    WHEN result_state IN ('ERROR', 'FAILED', 'SKIPPED') THEN 'ERROR'\n",
    "    ELSE result_state\n",
    "  END AS result_state,\n",
    "  (unix_timestamp(period_end_time) - unix_timestamp(period_start_time)) / 60 AS duration_minutes\n",
    "FROM system.lakeflow.job_task_run_timeline\n",
    "WHERE period_start_time > (SELECT MIN(change_time) FROM system.lakeflow.jobs)\n",
    "  AND job_id IN (\n",
    "    SELECT DISTINCT job_id\n",
    "    FROM system.lakeflow.jobs\n",
    "    WHERE change_time > (SELECT MAX(delete_time) + INTERVAL 1 MINUTE FROM system.lakeflow.jobs)\n",
    "  )\n",
    "ORDER BY duration_minutes DESC"
   ]
  }
 ],
 "metadata": {
  "application/vnd.databricks.v1+notebook": {
   "computePreferences": null,
   "dashboards": [],
   "environmentMetadata": {
    "base_environment": "",
    "environment_version": "2"
   },
   "inputWidgetPreferences": null,
   "language": "python",
   "notebookMetadata": {
    "mostRecentlyExecutedCommandWithImplicitDF": {
     "commandId": 5307126272956410,
     "dataframes": [
      "_sqldf"
     ]
    },
    "pythonIndentUnit": 4
   },
   "notebookName": "status_job",
   "widgets": {}
  },
  "language_info": {
   "name": "python"
  }
 },
 "nbformat": 4,
 "nbformat_minor": 0
}
