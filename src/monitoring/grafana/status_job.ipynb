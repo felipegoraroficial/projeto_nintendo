{
 "cells": [
  {
   "cell_type": "code",
   "execution_count": 0,
   "metadata": {
    "application/vnd.databricks.v1+cell": {
     "cellMetadata": {
      "byteLimit": 2048000,
      "rowLimit": 10000
     },
     "inputWidgets": {},
     "nuid": "4134602a-ba86-490d-a294-bf396d1f96d4",
     "showTitle": false,
     "tableResultSettingsMap": {},
     "title": ""
    }
   },
   "outputs": [],
   "source": [
    "%sql\n",
    "SELECT \n",
    "  result_state,\n",
    "  COUNT(*) AS count,\n",
    "  ROUND(100.0 * COUNT(*) / SUM(COUNT(*)) OVER (), 2) AS percentage\n",
    "FROM (\n",
    "  SELECT \n",
    "    CASE \n",
    "      WHEN result_state = 'SUCCESS' THEN 'SUCCEEDED'\n",
    "      WHEN result_state IN ('ERROR', 'FAILED', 'SKIPPED') THEN 'ERROR'\n",
    "      ELSE result_state\n",
    "    END AS result_state\n",
    "  FROM system.lakeflow.job_task_run_timeline\n",
    "  WHERE period_start_time > (SELECT MIN(change_time) FROM system.lakeflow.jobs)\n",
    "    AND job_id IN (\n",
    "      SELECT DISTINCT job_id\n",
    "      FROM system.lakeflow.jobs\n",
    "      WHERE change_time > (SELECT MAX(delete_time) + INTERVAL 1 MINUTE FROM system.lakeflow.jobs)\n",
    "    )\n",
    ") AS subquery\n",
    "GROUP BY result_state\n",
    "ORDER BY count DESC\n"
   ]
  }
 ],
 "metadata": {
  "application/vnd.databricks.v1+notebook": {
   "computePreferences": null,
   "dashboards": [],
   "environmentMetadata": {
    "base_environment": "",
    "environment_version": "2"
   },
   "inputWidgetPreferences": null,
   "language": "python",
   "notebookMetadata": {
    "mostRecentlyExecutedCommandWithImplicitDF": {
     "commandId": -1,
     "dataframes": [
      "_sqldf"
     ]
    },
    "pythonIndentUnit": 4
   },
   "notebookName": "status_job",
   "widgets": {}
  },
  "language_info": {
   "name": "python"
  }
 },
 "nbformat": 4,
 "nbformat_minor": 0
}
