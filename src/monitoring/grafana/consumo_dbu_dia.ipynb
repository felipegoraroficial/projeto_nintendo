{
 "cells": [
  {
   "cell_type": "code",
   "execution_count": 0,
   "metadata": {
    "application/vnd.databricks.v1+cell": {
     "cellMetadata": {
      "byteLimit": 2048000,
      "implicitDf": true,
      "rowLimit": 10000
     },
     "inputWidgets": {},
     "nuid": "ea1dd304-bfe7-48b5-a8b8-d66fca21b29c",
     "showTitle": false,
     "tableResultSettingsMap": {},
     "title": ""
    }
   },
   "outputs": [],
   "source": [
    "%sql\n",
    "SELECT\n",
    "    CAST(DATE_FORMAT(u.usage_end_time, 'yyyy-MM-dd') AS DATE) AS usage_date,\n",
    "    CAST(ROUND(SUM(u.usage_quantity), 2) AS FLOAT) AS total_dbu_usage\n",
    "FROM `system`.billing.usage u\n",
    "INNER JOIN (\n",
    "    SELECT DISTINCT cluster_id\n",
    "    FROM `system`.compute.clusters\n",
    "    WHERE workspace_id = '1979788420159277'\n",
    ") c ON u.usage_metadata['cluster_id'] = c.cluster_id\n",
    "GROUP BY DATE_FORMAT(u.usage_end_time, 'yyyy-MM-dd')\n",
    "ORDER BY DATE_FORMAT(u.usage_end_time, 'yyyy-MM-dd');"
   ]
  }
 ],
 "metadata": {
  "application/vnd.databricks.v1+notebook": {
   "computePreferences": null,
   "dashboards": [],
   "environmentMetadata": {
    "base_environment": "",
    "environment_version": "2"
   },
   "inputWidgetPreferences": null,
   "language": "python",
   "notebookMetadata": {
    "mostRecentlyExecutedCommandWithImplicitDF": {
     "commandId": 5307126272956406,
     "dataframes": [
      "_sqldf"
     ]
    },
    "pythonIndentUnit": 4
   },
   "notebookName": "consumo_dbu_dia",
   "widgets": {}
  },
  "language_info": {
   "name": "python"
  }
 },
 "nbformat": 4,
 "nbformat_minor": 0
}
