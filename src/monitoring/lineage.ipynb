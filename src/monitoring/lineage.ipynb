{
 "cells": [
  {
   "cell_type": "markdown",
   "metadata": {
    "application/vnd.databricks.v1+cell": {
     "cellMetadata": {},
     "inputWidgets": {},
     "nuid": "2fab8033-ad10-47e3-a134-974f950e72e6",
     "showTitle": false,
     "tableResultSettingsMap": {},
     "title": ""
    }
   },
   "source": [
    "## Relação Read versus Write"
   ]
  },
  {
   "cell_type": "code",
   "execution_count": 0,
   "metadata": {
    "application/vnd.databricks.v1+cell": {
     "cellMetadata": {},
     "inputWidgets": {},
     "nuid": "a06deda7-3827-42a8-b263-273703c48177",
     "showTitle": false,
     "tableResultSettingsMap": {},
     "title": ""
    }
   },
   "outputs": [],
   "source": [
    "%sql\n",
    "SELECT \n",
    "    type,\n",
    "    SUM(total_count) AS total_count\n",
    "FROM (\n",
    "    SELECT \n",
    "        CONCAT(source_table_schema, '.', source_table_name) AS table,\n",
    "        COUNT(*) AS total_count,\n",
    "        'leitura' AS type\n",
    "    FROM `system`.access.table_lineage\n",
    "    WHERE source_table_full_name IS NOT NULL \n",
    "      AND entity_type IS NOT NULL \n",
    "      AND CONCAT(source_table_schema, '.', source_table_name) IS NOT NULL\n",
    "    GROUP BY source_table_schema, source_table_name\n",
    "\n",
    "    UNION ALL\n",
    "\n",
    "    SELECT \n",
    "        CONCAT(source_table_schema, '.', target_table_name) AS table,\n",
    "        COUNT(*) AS total_count,\n",
    "        'escrita' AS type\n",
    "    FROM `system`.access.table_lineage\n",
    "    WHERE target_table_full_name IS NOT NULL \n",
    "      AND entity_type IS NOT NULL \n",
    "      AND CONCAT(source_table_schema, '.', target_table_name) IS NOT NULL\n",
    "    GROUP BY source_table_schema, target_table_name\n",
    ") subquery\n",
    "WHERE table LIKE 'nintendo%'\n",
    "GROUP BY type\n",
    "ORDER BY total_count DESC\n"
   ]
  },
  {
   "cell_type": "markdown",
   "metadata": {
    "application/vnd.databricks.v1+cell": {
     "cellMetadata": {},
     "inputWidgets": {},
     "nuid": "9888c631-1d5e-4355-92d0-c02b2abf2d45",
     "showTitle": false,
     "tableResultSettingsMap": {},
     "title": ""
    }
   },
   "source": [
    "## Contagem de ações por tabelas"
   ]
  },
  {
   "cell_type": "code",
   "execution_count": 0,
   "metadata": {
    "application/vnd.databricks.v1+cell": {
     "cellMetadata": {},
     "inputWidgets": {},
     "nuid": "e6bad85b-aef2-4481-82ce-73ca9e081eda",
     "showTitle": false,
     "tableResultSettingsMap": {},
     "title": ""
    }
   },
   "outputs": [],
   "source": [
    "%sql\n",
    "SELECT \n",
    "    table,\n",
    "    type,\n",
    "    SUM(total_count) AS total_count\n",
    "FROM (\n",
    "    SELECT \n",
    "        CONCAT(source_table_schema, '.', source_table_name) AS table,\n",
    "        COUNT(*) AS total_count,\n",
    "        'leitura' AS type\n",
    "    FROM `system`.access.table_lineage\n",
    "    WHERE source_table_full_name IS NOT NULL \n",
    "      AND entity_type IS NOT NULL \n",
    "      AND CONCAT(source_table_schema, '.', source_table_name) IS NOT NULL\n",
    "    GROUP BY source_table_schema, source_table_name\n",
    "\n",
    "    UNION ALL\n",
    "\n",
    "    SELECT \n",
    "        CONCAT(source_table_schema, '.', target_table_name) AS table,\n",
    "        COUNT(*) AS total_count,\n",
    "        'escrita' AS type\n",
    "    FROM `system`.access.table_lineage\n",
    "    WHERE target_table_full_name IS NOT NULL \n",
    "      AND entity_type IS NOT NULL \n",
    "      AND CONCAT(source_table_schema, '.', target_table_name) IS NOT NULL\n",
    "    GROUP BY source_table_schema, target_table_name\n",
    ") subquery\n",
    "WHERE table LIKE 'nintendo%'\n",
    "GROUP BY table, type\n",
    "ORDER BY total_count DESC"
   ]
  }
 ],
 "metadata": {
  "application/vnd.databricks.v1+notebook": {
   "computePreferences": null,
   "dashboards": [],
   "environmentMetadata": {
    "base_environment": "",
    "environment_version": "2"
   },
   "inputWidgetPreferences": null,
   "language": "python",
   "notebookMetadata": {
    "pythonIndentUnit": 4
   },
   "notebookName": "lineage",
   "widgets": {}
  },
  "language_info": {
   "name": "python"
  }
 },
 "nbformat": 4,
 "nbformat_minor": 0
}
