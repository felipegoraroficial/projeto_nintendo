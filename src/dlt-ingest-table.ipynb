{
 "cells": [
  {
   "cell_type": "code",
   "execution_count": 0,
   "metadata": {
    "application/vnd.databricks.v1+cell": {
     "cellMetadata": {},
     "inputWidgets": {},
     "nuid": "5915148c-be0b-4f60-b221-231aa2f6c49e",
     "showTitle": false,
     "tableResultSettingsMap": {},
     "title": ""
    }
   },
   "outputs": [],
   "source": [
    "import dlt\n",
    "import logging\n",
    "from pyspark.sql.types import StructType, StructField, StringType"
   ]
  },
  {
   "cell_type": "code",
   "execution_count": 0,
   "metadata": {
    "application/vnd.databricks.v1+cell": {
     "cellMetadata": {},
     "inputWidgets": {},
     "nuid": "f6d27664-d8d2-48e1-9265-fdbb9f95d2de",
     "showTitle": false,
     "tableResultSettingsMap": {},
     "title": ""
    }
   },
   "outputs": [],
   "source": [
    "logger = logging.getLogger(\"DLTLoggerBronzeNintendo\")\n",
    "\n",
    "logger.setLevel(logging.INFO)\n",
    "\n",
    "if not logger.handlers:\n",
    "    handler = logging.StreamHandler()\n",
    "    formatter = logging.Formatter('[%(levelname)s] %(asctime)s - %(message)s',\n",
    "                                  '%Y-%m-%d %H:%M:%S')\n",
    "    handler.setFormatter(formatter)\n",
    "    logger.addHandler(handler)"
   ]
  },
  {
   "cell_type": "code",
   "execution_count": 0,
   "metadata": {
    "application/vnd.databricks.v1+cell": {
     "cellMetadata": {},
     "inputWidgets": {},
     "nuid": "3bf72b41-9c6e-4f28-b170-a017d60fb362",
     "showTitle": false,
     "tableResultSettingsMap": {},
     "title": ""
    }
   },
   "outputs": [],
   "source": [
    "# Schema fixo para o JSON de entrada\n",
    "schema = StructType([\n",
    "    StructField(\"desconto\", StringType(), True),   \n",
    "    StructField(\"codigo\", StringType(), True),\n",
    "    StructField(\"nome\", StringType(), True),\n",
    "    StructField(\"preco\", StringType(), True),      \n",
    "    StructField(\"parcelamento\", StringType(), True),\n",
    "    StructField(\"link\", StringType(), True),\n",
    "    StructField(\"origem\", StringType(), True),\n",
    "    StructField(\"extract\", StringType(), True)  \n",
    "])"
   ]
  },
  {
   "cell_type": "code",
   "execution_count": 0,
   "metadata": {
    "application/vnd.databricks.v1+cell": {
     "cellMetadata": {},
     "inputWidgets": {},
     "nuid": "6461e1e7-6440-498a-85a7-6e2e7cb1455d",
     "showTitle": false,
     "tableResultSettingsMap": {},
     "title": ""
    }
   },
   "outputs": [],
   "source": [
    "@dlt.table(\n",
    "    name=\"nintendodatabricks_workspace.bronze.consoles_ing\",\n",
    "    comment=\"Tabela streming referente a consoles nintendo switch em diversas fontes de busca\"\n",
    ")\n",
    "\n",
    "@dlt.expect(\"colunas_obrriatorias_nao_nulas\", \"codigo IS NOT NULL AND preco IS NOT NULL\")\n",
    "\n",
    "@dlt.expect(\"extract_format\", \"extract RLIKE '^[0-9]{4}-[0-9]{2}-[0-9]{2} [0-9]{2}:[0-9]{2}$'\")\n",
    "\n",
    "def nintendo_bronze():\n",
    "\n",
    "    logger.info(\"Streaming de dados iniciado...\")\n",
    "\n",
    "    df = (\n",
    "        spark.readStream\n",
    "            .format(\"cloudFiles\")\n",
    "            .option(\"cloudFiles.format\", \"json\")\n",
    "            .option(\"recursiveFileLookup\", \"true\")\n",
    "            .schema(schema)\n",
    "            .load(\"abfss://nintendo@nintendostorageaccount.dfs.core.windows.net/inbound/\")\n",
    "    )\n",
    "    # Deduplicação por \"codigo\", \"nome\", \"preco\", \"desconto\", \"parcelamento\"\n",
    "    df = df.dropDuplicates([\"codigo\", \"preco\", \"desconto\", \"parcelamento\"])\n",
    "\n",
    "    logger.info(\"Carregando dados na Streaming table\")\n",
    "\n",
    "    return df"
   ]
  }
 ],
 "metadata": {
  "application/vnd.databricks.v1+notebook": {
   "computePreferences": null,
   "dashboards": [],
   "environmentMetadata": {
    "base_environment": "",
    "environment_version": "3"
   },
   "inputWidgetPreferences": null,
   "language": "python",
   "notebookMetadata": {
    "pythonIndentUnit": 4
   },
   "notebookName": "dlt-ingest-table",
   "widgets": {}
  },
  "language_info": {
   "name": "python"
  }
 },
 "nbformat": 4,
 "nbformat_minor": 0
}
