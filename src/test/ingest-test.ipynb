{
 "cells": [
  {
   "cell_type": "code",
   "execution_count": 0,
   "metadata": {
    "application/vnd.databricks.v1+cell": {
     "cellMetadata": {},
     "inputWidgets": {},
     "nuid": "474c0b61-5021-4b2c-a485-4038eca0aca6",
     "showTitle": false,
     "tableResultSettingsMap": {},
     "title": ""
    }
   },
   "outputs": [],
   "source": [
    "%pip install pytest"
   ]
  },
  {
   "cell_type": "code",
   "execution_count": 0,
   "metadata": {
    "application/vnd.databricks.v1+cell": {
     "cellMetadata": {
      "byteLimit": 2048000,
      "rowLimit": 10000
     },
     "inputWidgets": {},
     "nuid": "fb13a4c6-881a-4bcc-9dea-e59b7e681949",
     "showTitle": false,
     "tableResultSettingsMap": {},
     "title": ""
    }
   },
   "outputs": [],
   "source": [
    "import pytest\n",
    "from pyspark.sql.utils import AnalysisException\n",
    "from pyspark.sql.functions import col\n",
    "\n",
    "table_name = \"nintendodatabricks_workspace.bronze.consoles_ing\"\n",
    "expected_schema = [\"desconto\", \"codigo\", \"nome\", \"preco\", \"parcelamento\", \"link\", \"origem\", \"extract\"]\n",
    "\n",
    "def check_table_exists(table):\n",
    "    try:\n",
    "        spark.table(table)\n",
    "        return True\n",
    "    except AnalysisException:\n",
    "        return False\n",
    "\n",
    "def check_schema(table, expected_cols):\n",
    "    df = spark.table(table)\n",
    "    actual_cols = df.columns\n",
    "    return set(actual_cols) == set(expected_cols)\n",
    "\n",
    "def check_nulls(table):\n",
    "    df = spark.table(table)\n",
    "    null_counts = {}\n",
    "    for c in df.columns:\n",
    "        cnt = df.filter(col(c).isNull()).count()\n",
    "        null_counts[c] = cnt\n",
    "    return null_counts\n",
    "\n",
    "def check_not_empty(table):\n",
    "    df = spark.table(table)\n",
    "    return not df.rdd.isEmpty()\n",
    "\n",
    "@pytest.mark.parametrize(\"table\", [table_name])\n",
    "def test_table_exists(table):\n",
    "    assert check_table_exists(table), f\"Table {table} should exist\"\n",
    "\n",
    "@pytest.mark.parametrize(\"table,expected_cols\", [(table_name, expected_schema)])\n",
    "def test_schema(table, expected_cols):\n",
    "    assert check_schema(table, expected_cols), f\"Schema of table {table} does not match expected\"\n",
    "\n",
    "@pytest.mark.parametrize(\"table\", [table_name])\n",
    "def test_no_nulls(table):\n",
    "    nulls = check_nulls(table)\n",
    "    null_columns = [col for col, cnt in nulls.items() if cnt > 0]\n",
    "    assert not null_columns, f\"Columns with null values: {null_columns}\"\n",
    "\n",
    "@pytest.mark.parametrize(\"table\", [table_name])\n",
    "def test_not_empty(table):\n",
    "    assert check_not_empty(table), f\"Table {table} is empty\""
   ]
  },
  {
   "cell_type": "code",
   "execution_count": 0,
   "metadata": {
    "application/vnd.databricks.v1+cell": {
     "cellMetadata": {
      "byteLimit": 2048000,
      "rowLimit": 10000
     },
     "inputWidgets": {},
     "nuid": "0e2e92a6-6d1d-42ec-badb-8a5b24d4f924",
     "showTitle": false,
     "tableResultSettingsMap": {},
     "title": ""
    }
   },
   "outputs": [],
   "source": [
    "print(\"Table exists:\", check_table_exists(table_name))\n",
    "print(\"Schema ok:\", check_schema(table_name, expected_schema))\n",
    "print(\"Null counts:\", check_nulls(table_name))\n",
    "print(\"Not empty:\", check_not_empty(table_name))\n"
   ]
  },
  {
   "cell_type": "code",
   "execution_count": 0,
   "metadata": {
    "application/vnd.databricks.v1+cell": {
     "cellMetadata": {
      "byteLimit": 2048000,
      "rowLimit": 10000
     },
     "inputWidgets": {},
     "nuid": "b478354a-36cf-47dc-81ad-a2ef599e5312",
     "showTitle": false,
     "tableResultSettingsMap": {},
     "title": ""
    }
   },
   "outputs": [],
   "source": [
    "try:\n",
    "    test_table_exists(table_name)\n",
    "    test_schema(table_name, expected_schema)\n",
    "    test_no_nulls(table_name)\n",
    "    test_not_empty(table_name)\n",
    "    print(\"✅ Todos os testes passaram\")\n",
    "except AssertionError as e:\n",
    "    print(f\"❌ Falhou: {e}\")\n"
   ]
  }
 ],
 "metadata": {
  "application/vnd.databricks.v1+notebook": {
   "computePreferences": null,
   "dashboards": [],
   "environmentMetadata": {
    "base_environment": "",
    "environment_version": "3"
   },
   "inputWidgetPreferences": null,
   "language": "python",
   "notebookMetadata": {
    "pythonIndentUnit": 4
   },
   "notebookName": "ingest-test",
   "widgets": {}
  },
  "language_info": {
   "name": "python"
  }
 },
 "nbformat": 4,
 "nbformat_minor": 0
}
