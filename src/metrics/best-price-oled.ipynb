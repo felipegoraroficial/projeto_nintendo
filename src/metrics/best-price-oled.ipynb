{
 "cells": [
  {
   "cell_type": "code",
   "execution_count": 0,
   "metadata": {
    "application/vnd.databricks.v1+cell": {
     "cellMetadata": {
      "byteLimit": 2048000,
      "implicitDf": true,
      "rowLimit": 10000
     },
     "inputWidgets": {},
     "nuid": "e523607d-5f14-4bd3-a9fa-fa9b4d04d7de",
     "showTitle": false,
     "tableResultSettingsMap": {},
     "title": ""
    }
   },
   "outputs": [],
   "source": [
    "%sql\n",
    "CREATE OR REPLACE VIEW `nintendodatabricksp1okle_workspace`.`nintendo`.`best-price-oled` AS\n",
    "WITH produtos AS (\n",
    "    SELECT\n",
    "        codigo,\n",
    "        nome,\n",
    "        origem\n",
    "\n",
    "    FROM nintendodatabricksp1okle_workspace.nintendo.products\n",
    "),\n",
    "preco AS (\n",
    "    SELECT\n",
    "        codigo,\n",
    "        preco\n",
    "    FROM nintendodatabricksp1okle_workspace.nintendo.price\n",
    "),\n",
    "\n",
    "detalhes AS (\n",
    "    SELECT\n",
    "        codigo,\n",
    "        oled\n",
    "    FROM nintendodatabricksp1okle_workspace.nintendo.details\n",
    "),\n",
    "\n",
    "produtos_filtrados AS (\n",
    "    SELECT\n",
    "        produtos.codigo,\n",
    "        produtos.nome,\n",
    "        produtos.origem,\n",
    "        preco.preco,\n",
    "        detalhes.oled\n",
    "    FROM produtos\n",
    "    JOIN preco ON produtos.codigo = preco.codigo\n",
    "    JOIN detalhes ON produtos.codigo = detalhes.codigo\n",
    "    WHERE detalhes.oled = 'Sim' AND produtos.origem IN (SELECT DISTINCT origem FROM nintendodatabricksp1okle_workspace.nintendo.products)\n",
    "),\n",
    "\n",
    "menores_precos AS (\n",
    "    SELECT\n",
    "        codigo,\n",
    "        preco AS menor_preco,\n",
    "        origem\n",
    "    FROM produtos_filtrados\n",
    "    QUALIFY ROW_NUMBER() OVER (PARTITION BY origem ORDER BY preco ASC) = 1\n",
    "\n",
    ")\n",
    "\n",
    "SELECT * FROM menores_precos"
   ]
  }
 ],
 "metadata": {
  "application/vnd.databricks.v1+notebook": {
   "computePreferences": null,
   "dashboards": [],
   "environmentMetadata": {
    "base_environment": "",
    "environment_version": "2"
   },
   "inputWidgetPreferences": null,
   "language": "python",
   "notebookMetadata": {
    "mostRecentlyExecutedCommandWithImplicitDF": {
     "commandId": 5903673298092458,
     "dataframes": [
      "_sqldf"
     ]
    },
    "pythonIndentUnit": 4
   },
   "notebookName": "best-price-oled",
   "widgets": {}
  },
  "language_info": {
   "name": "python"
  }
 },
 "nbformat": 4,
 "nbformat_minor": 0
}
