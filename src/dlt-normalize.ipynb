{
 "cells": [
  {
   "cell_type": "code",
   "execution_count": 0,
   "metadata": {
    "application/vnd.databricks.v1+cell": {
     "cellMetadata": {},
     "inputWidgets": {},
     "nuid": "b636c699-6d53-491b-92f8-bcb20957d0d5",
     "showTitle": false,
     "tableResultSettingsMap": {},
     "title": ""
    },
    "jupyter": {
     "outputs_hidden": true
    }
   },
   "outputs": [],
   "source": [
    "CREATE OR REFRESH LIVE TABLE detalhes\n",
    "COMMENT \"Tabela referente a informações de detalhes de consoles nintendo\"\n",
    "AS\n",
    "SELECT \n",
    "    codigo,\n",
    "    memoria,\n",
    "    oled,    recomendacao,\n",
    "    link\n",
    "FROM (\n",
    "    SELECT \n",
    "        codigo,\n",
    "        memoria,\n",
    "        oled,\n",
    "        recomendacao,\n",
    "        link,\n",
    "        extract,\n",
    "        ROW_NUMBER() OVER (PARTITION BY codigo ORDER BY extract DESC) AS rn\n",
    "    FROM nintendodatabricks_workspace.gold.consoles_recomendation\n",
    ")\n",
    "WHERE rn = 1\n",
    "ORDER BY codigo;"
   ]
  },
  {
   "cell_type": "code",
   "execution_count": 0,
   "metadata": {
    "application/vnd.databricks.v1+cell": {
     "cellMetadata": {},
     "inputWidgets": {},
     "nuid": "5843dc52-d7e9-473a-b964-e759ec793714",
     "showTitle": false,
     "tableResultSettingsMap": {},
     "title": ""
    }
   },
   "outputs": [],
   "source": [
    "CREATE OR REFRESH LIVE TABLE produtos\n",
    "COMMENT \"Tabela referente aos produtos do console nintendo\"\n",
    "AS\n",
    "SELECT \n",
    "    codigo,\n",
    "    nome,\n",
    "    origem\n",
    "FROM (\n",
    "    SELECT \n",
    "        codigo,\n",
    "        nome,\n",
    "        origem,\n",
    "        extract,\n",
    "        ROW_NUMBER() OVER (PARTITION BY codigo ORDER BY extract DESC) AS rn\n",
    "    FROM nintendodatabricks_workspace.gold.consoles_recomendation\n",
    ")\n",
    "WHERE rn = 1\n",
    "ORDER BY codigo"
   ]
  },
  {
   "cell_type": "code",
   "execution_count": 0,
   "metadata": {
    "application/vnd.databricks.v1+cell": {
     "cellMetadata": {},
     "inputWidgets": {},
     "nuid": "b81c1cfa-c71f-4b26-9ecc-63bee3e9a585",
     "showTitle": false,
     "tableResultSettingsMap": {},
     "title": ""
    }
   },
   "outputs": [],
   "source": [
    "CREATE OR REFRESH LIVE TABLE precos\n",
    "COMMENT \"Tabela referente aos valores e formas de pagamento dos produtos do console nintendo\"\n",
    "AS\n",
    "SELECT \n",
    "    codigo,\n",
    "    preco,\n",
    "    numero_parcelas,\n",
    "    valor_prestacao,\n",
    "    desconto,\n",
    "    `extract` as `data`\n",
    "\n",
    "FROM nintendodatabricks_workspace.gold.consoles_recomendation\n",
    "ORDER BY preco ASC"
   ]
  }
 ],
 "metadata": {
  "application/vnd.databricks.v1+notebook": {
   "computePreferences": null,
   "dashboards": [],
   "environmentMetadata": {
    "base_environment": "",
    "environment_version": "3"
   },
   "inputWidgetPreferences": null,
   "language": "sql",
   "notebookMetadata": {
    "pythonIndentUnit": 4
   },
   "notebookName": "dlt-normalize",
   "widgets": {}
  },
  "language_info": {
   "name": "sql"
  }
 },
 "nbformat": 4,
 "nbformat_minor": 0
}
