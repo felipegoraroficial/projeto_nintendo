{
 "cells": [
  {
   "cell_type": "markdown",
   "metadata": {
    "application/vnd.databricks.v1+cell": {
     "cellMetadata": {},
     "inputWidgets": {},
     "nuid": "53db76f4-50b5-4582-bafa-115dfd40e68d",
     "showTitle": false,
     "tableResultSettingsMap": {},
     "title": ""
    }
   },
   "source": [
    "# Objetivo do Notebook\n",
    "\n",
    "Este notebook tem como objetivo realizar a extração de dados relacionados ao projeto Nintendo. Utilizando bibliotecas como `requests` e `BeautifulSoup`.\n",
    "\n",
    "1- obtém o caminho do notebook para identificar palavras referente ao ambiente e define a env em questão.\n",
    "\n",
    "2- importa funções do repositório meus_scripts_pyspark.\n",
    "\n",
    "3 - define a data atual para passar o nome do arquivo extraido.\n",
    "\n",
    "4 - chama a função req_bsoup para extrair dados html referente a url informada\n",
    "\n",
    "5 - define o file path para carregar dados usando dbutils."
   ]
  },
  {
   "cell_type": "code",
   "execution_count": 0,
   "metadata": {
    "application/vnd.databricks.v1+cell": {
     "cellMetadata": {},
     "inputWidgets": {},
     "nuid": "7a76399c-94ff-4ff1-80b1-5032078baafe",
     "showTitle": false,
     "tableResultSettingsMap": {},
     "title": ""
    }
   },
   "outputs": [],
   "source": [
    "import datetime\n",
    "import requests"
   ]
  },
  {
   "cell_type": "code",
   "execution_count": 0,
   "metadata": {
    "application/vnd.databricks.v1+cell": {
     "cellMetadata": {},
     "inputWidgets": {},
     "nuid": "1102533e-18c4-4894-b131-405249a69138",
     "showTitle": false,
     "tableResultSettingsMap": {},
     "title": ""
    }
   },
   "outputs": [],
   "source": [
    "# Obtém a data atual no formato \"YYYY-MM-DD\"\n",
    "current_date = datetime.datetime.now().strftime(\"%Y-%m-%d\")\n",
    "\n",
    "# define a url para scrapy\n",
    "url = \"https://www.kabum.com.br/gamer/nintendo/consoles-nintendo\"\n",
    "\n",
    "# Define o cabeçalho do agente de usuário para a requisição HTTP\n",
    "headers = {\n",
    "    'User-Agent': 'Mozilla/5.0 (Windows NT 10.0; Win64; x64) AppleWebKit/537.36 (KHTML, like Gecko) Chrome/91.0.4472.124 Safari/537.36',\n",
    "    'Accept': 'text/html,application/xhtml+xml,application/xml;q=0.9,image/avif,image/webp,*/*;q=0.8',\n",
    "    'Accept-Language': 'pt-BR,pt;q=0.8,en-US;q=0.5,en;q=0.3',\n",
    "    'Accept-Encoding': 'gzip, deflate, br',\n",
    "    'Connection': 'keep-alive'\n",
    "}\n",
    "\n",
    "# Faz uma requisição GET para a URL especificada com o número da página e cabeçalho\n",
    "resposta = requests.get(url, headers=headers)\n",
    "\n",
    "filetext = resposta.text"
   ]
  },
  {
   "cell_type": "code",
   "execution_count": 0,
   "metadata": {
    "application/vnd.databricks.v1+cell": {
     "cellMetadata": {},
     "inputWidgets": {},
     "nuid": "02ade701-068b-4870-b12b-fb88d934e946",
     "showTitle": false,
     "tableResultSettingsMap": {},
     "title": ""
    }
   },
   "outputs": [],
   "source": [
    "# define o caminho inbound da external location da storage account\n",
    "file_path = f'/Volumes/nintendoworkspace/nintendoschema/inbound-vol/kabum/{current_date}.html'\n",
    "\n",
    "# Escreve o conteúdo da página no arquivo usando dbutils.fs.put\n",
    "dbutils.fs.put(file_path, filetext, overwrite=True)"
   ]
  }
 ],
 "metadata": {
  "application/vnd.databricks.v1+notebook": {
   "computePreferences": null,
   "dashboards": [],
   "environmentMetadata": {
    "base_environment": "",
    "environment_version": "2"
   },
   "inputWidgetPreferences": null,
   "language": "python",
   "notebookMetadata": {
    "pythonIndentUnit": 4
   },
   "notebookName": "inbound",
   "widgets": {}
  },
  "language_info": {
   "name": "python"
  }
 },
 "nbformat": 4,
 "nbformat_minor": 0
}
